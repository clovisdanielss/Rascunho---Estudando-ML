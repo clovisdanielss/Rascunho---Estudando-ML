{
 "cells": [
  {
   "cell_type": "markdown",
   "metadata": {},
   "source": [
    "### Span\n",
    "\n",
    "O span de um conjunto de vetores consiste no espaço vetorial gerado pela combinação linear daqueles vetores sob um corpo de escalar.\n",
    "\n",
    "$\\alpha_{1}u_{1} + \\alpha_{2}u_{2} + ... + \\alpha_{n}u_{n}$\n",
    "\n",
    "### Dependência Linear\n",
    "\n",
    "Para saber se um conjunto de vetores são L.D. basta saber se existe algum vetor que é combinação linear dos demais (Det(A) = 0).\n",
    "\n",
    "$\\alpha_{1}u_{1} = \\alpha_{2}u_{2} + ... + \\alpha_{n}u_{n}$\n",
    "\n",
    "### Indepedência Linear\n",
    "\n",
    "Para saber se um conjunto de vetores são L.I., a única solução para a equação a seguir deve ser $\\alpha_{1} = \\alpha_{2} = ...  = \\alpha_{n} = 0$:\n",
    "\n",
    "$0 = \\alpha_{1}u_{1} + \\alpha_{2}u_{2} + ... + \\alpha_{n}u_{n}$\n",
    "\n",
    "### Base\n",
    "\n",
    "Um conjunto de vetores é dito base de um espaço vetorial V se:\n",
    "\n",
    "i. Os vetores forem L.I.\n",
    "\n",
    "ii. Gerarem V.\n",
    "\n",
    "### Dimensão de um espaço vetorial\n",
    "\n",
    "A dimensão de um espaço vetorial é indicada pelo número de vetores que geram sua base.\n",
    "\n",
    "### Base de um subspaço vetorial\n",
    "\n",
    "Se um subspaço W de V é gerado por uma $base(W)$, então $\\exists S \\subset base(V)$ t.q. $base(W) \\cup S = base(V)$"
   ]
  },
  {
   "cell_type": "code",
   "execution_count": null,
   "metadata": {},
   "outputs": [],
   "source": []
  }
 ],
 "metadata": {
  "kernelspec": {
   "display_name": "Python 3",
   "language": "python",
   "name": "python3"
  },
  "language_info": {
   "codemirror_mode": {
    "name": "ipython",
    "version": 3
   },
   "file_extension": ".py",
   "mimetype": "text/x-python",
   "name": "python",
   "nbconvert_exporter": "python",
   "pygments_lexer": "ipython3",
   "version": "3.8.5"
  }
 },
 "nbformat": 4,
 "nbformat_minor": 4
}
