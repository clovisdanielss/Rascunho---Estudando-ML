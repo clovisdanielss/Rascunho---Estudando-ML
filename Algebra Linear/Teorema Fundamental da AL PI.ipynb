{
 "cells": [
  {
   "cell_type": "markdown",
   "metadata": {},
   "source": [
    "### Os quatro espaços fundamentais.\n",
    "\n",
    "Espaço coluna, espaço vetorial gerado pelas colunas de uma matriz $A_{m,n}$. Denotado por $R(A)$. A base de $R(A)$ é indicada pelas colunas pivôs geradas da decomposição $A = LU$.\n",
    "\n",
    "Espaço linha, espaço vetorial gerado pelas linhas de uma matriz $A_{m,n}$. Denotado por $R(A^{t})$. A base de $R(A^{t})$ = $R(U^{t})$\n",
    "\n",
    "Espaço nulo, espaço vetorial que representa o conjuntos de vetores t.q. $Ax = 0$. Denotado por $N(A)$. Obtem-se com a resolução do sistema.\n",
    "\n",
    "Espaço nulo esquerdo, espaço vetorial que representa o conjunto de vetores t.q. $A^{t}y = 0$. Denotado por $N(A^{t})$. Idem.\n",
    "\n",
    "### Teorema fundamental da AL parte 1.\n",
    "Dada uma matriz $A_{m,n}$, com $posto(A) = r$ (posto é o total de pivôs)\n",
    "\n",
    "i. $d(R(A)) = r$\n",
    "\n",
    "ii. $d(R(A^{t})) = r$\n",
    "\n",
    "iii. $d(N(A)) = n - r$\n",
    "\n",
    "iv. $d(N(A^{t})) = m - r$ \n",
    "\n",
    "### Uma coisa interessante.\n",
    "\n",
    "Para um sistema $Ax = b$ ter solução (consistente), $b \\in R(A)$. Ou seja, $b$ deve ser gerado pela combinação linear das colunas de $A$."
   ]
  }
 ],
 "metadata": {
  "kernelspec": {
   "display_name": "Python 3",
   "language": "python",
   "name": "python3"
  },
  "language_info": {
   "codemirror_mode": {
    "name": "ipython",
    "version": 3
   },
   "file_extension": ".py",
   "mimetype": "text/x-python",
   "name": "python",
   "nbconvert_exporter": "python",
   "pygments_lexer": "ipython3",
   "version": "3.8.5"
  }
 },
 "nbformat": 4,
 "nbformat_minor": 4
}
