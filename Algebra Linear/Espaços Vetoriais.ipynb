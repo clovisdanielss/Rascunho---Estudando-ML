{
 "cells": [
  {
   "cell_type": "markdown",
   "metadata": {},
   "source": [
    "### Espaço Vetorial\n",
    "\n",
    "De forma sucinta, U é um espaço vetorial se consiste em:\n",
    "\n",
    "i. Um conjunto de vetores não vazio.\n",
    "\n",
    "ii. Possui uma definição de adição vetorial fechada em U, $u,v,u+v \\in U$.\n",
    "\n",
    "iii. Está definido sobre um corpo de escalares F.\n",
    "\n",
    "iv. Possui uma definição de multiplicação por escalar.$\\alpha \\in F, u, \\alpha u \\in U$\n",
    "\n",
    "ii e iv devem seguir propriedades comutativa, associativa, elemento neutro, elemento simétrico, distributiva, unidade.\n",
    "\n",
    "### Subespaço Vetorial\n",
    "Consiste em $V \\subseteq U$, tal que $\\forall u,v \\in V$ e $\\forall \\alpha \\in F$:\n",
    "\n",
    "i. $v + u \\in V$\n",
    "\n",
    "ii. $\\alpha v \\in V$"
   ]
  }
 ],
 "metadata": {
  "kernelspec": {
   "display_name": "Python 3",
   "language": "python",
   "name": "python3"
  },
  "language_info": {
   "codemirror_mode": {
    "name": "ipython",
    "version": 3
   },
   "file_extension": ".py",
   "mimetype": "text/x-python",
   "name": "python",
   "nbconvert_exporter": "python",
   "pygments_lexer": "ipython3",
   "version": "3.8.5"
  }
 },
 "nbformat": 4,
 "nbformat_minor": 4
}
