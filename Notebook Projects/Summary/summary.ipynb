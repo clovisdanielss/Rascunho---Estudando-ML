{
 "cells": [
  {
   "cell_type": "code",
   "execution_count": 29,
   "id": "a542bb8d",
   "metadata": {},
   "outputs": [],
   "source": [
    "import urllib.request\n",
    "import urllib.parse\n",
    "import re\n",
    "import numpy as np\n",
    "import nltk\n",
    "\n",
    "def normalize(vec):\n",
    "    return vec/(np.linalg.norm(vec))\n",
    "def cos(vec,wec):\n",
    "    return np.dot(vec,wec)/(np.linalg.norm(vec)*np.linalg.norm(wec))\n",
    "\n",
    "try: \n",
    "    from BeautifulSoup import BeautifulSoup\n",
    "except ImportError:\n",
    "    from bs4 import BeautifulSoup\n",
    "\n",
    "max_range = 10\n",
    "corpus = []\n",
    "for index in range(1,max_range+1):\n",
    "    url = \"https://bibliaportugues.com/kja/genesis/\"+str(index)+\".htm\"\n",
    "    response = urllib.request.urlopen(url)\n",
    "    if(response.status < 300):\n",
    "        contents = response.read()\n",
    "        contents = contents.decode(\"utf-8\")\n",
    "        parsed_html = BeautifulSoup(contents)\n",
    "        html_text_array = parsed_html.body.find_all('span', attrs={'class':'maintext'})\n",
    "        text_array = [ele.text for ele in html_text_array]\n",
    "        corpus.append(\"\".join(text_array).lower())\n",
    "\n",
    "for i in range(max_range):\n",
    "    corpus[i] = re.sub(r'“', \"\", corpus[i])\n",
    "    corpus[i] = re.sub(r'”', \"\", corpus[i])"
   ]
  },
  {
   "cell_type": "code",
   "execution_count": 50,
   "id": "e2a10c19",
   "metadata": {},
   "outputs": [],
   "source": [
    "voc2vec = {\"<EOF>\":1,\"<PAD>\":0}\n",
    "vec2voc = {1:\"<EOF>\",0:\"<PAD>\"}\n",
    "index=2\n",
    "for i in range(max_range):\n",
    "    tokens = nltk.wordpunct_tokenize(corpus[i]) + [\"<EOF>\"]\n",
    "    for token in tokens:\n",
    "        if token not in voc2vec:\n",
    "            voc2vec[token] = index\n",
    "            vec2voc[index] = token\n",
    "            index+=1"
   ]
  },
  {
   "cell_type": "code",
   "execution_count": 51,
   "id": "75e8f96a",
   "metadata": {},
   "outputs": [
    {
     "data": {
      "text/plain": [
       "(1281, 1281)"
      ]
     },
     "execution_count": 51,
     "metadata": {},
     "output_type": "execute_result"
    }
   ],
   "source": [
    "len(vec2voc), len(voc2vec)"
   ]
  },
  {
   "cell_type": "code",
   "execution_count": 55,
   "id": "0258bb47",
   "metadata": {},
   "outputs": [
    {
     "name": "stdout",
     "output_type": "stream",
     "text": [
      "[5, 269, 104, 1]\n",
      "['deus', 'é', 'bom', '<EOF>']\n"
     ]
    }
   ],
   "source": [
    "def tokenize(doc, voc2vec):\n",
    "    word_tokens = nltk.word_tokenize(doc.lower()) + [\"<EOF>\"]\n",
    "    tokens = []\n",
    "    for word in word_tokens:\n",
    "        tokens.append(voc2vec[word])\n",
    "    return tokens\n",
    "\n",
    "result = tokenize(\"Deus é bom\", voc2vec)\n",
    "print(result)\n",
    "\n",
    "def detokenize(tokens, vec2voc):\n",
    "    word_tokens = []\n",
    "    for token in tokens:\n",
    "        word_tokens.append(vec2voc[token])\n",
    "    return word_tokens\n",
    "\n",
    "print(detokenize(result, vec2voc))"
   ]
  },
  {
   "cell_type": "code",
   "execution_count": 56,
   "id": "8299a51c",
   "metadata": {},
   "outputs": [
    {
     "data": {
      "text/plain": [
       "['no princípio, deus criou os céus e a terra.a terra, entretanto, era sem forma e vazia. a escuridão cobria o mar que envolvia toda a terra, e o espírito de deus se movia sobre a face das águas.disse deus: haja luz!, e houve luz.viu deus que a luz era boa; e separou a luz das trevas.chamou deus à luz dia, e às trevas chamou noite. houve então, a tarde e a manhã: o primeiro dia.depois disse deus: haja entre as águas um limite para separá-las em duas partes!fez, portanto, deus o firmamento e separou as águas estabelecidas abaixo desse limite, das que ficaram por cima. e assim aconteceu.e deus ao firmamento deu o nome de céu. a tarde passou, e raiou a manhã: esse foi o segundo dia.então disse deus: que as águas que estão sob o céu se reúnam num só lugar, a fim de que apareça a parte seca! e assim aconteceu.deus outorgou o nome de terra a parte seca, e a massa das águas que se haviam ajuntado ele chamou de mares. e observou deus que isso era bom.e determinou: que a terra seja coberta com todo tipo de vegetação! plantas que dêem semente e árvores cujos frutos produzam sementes conforme suas próprias espécies. e assim aconteceu.e, assim, a terra fez brotar toda a vegetação: ervas que dão sementes segundo sua espécie, e árvores que produzem frutos, cujas sementes estavam neles, de acordo com suas espécies. e observou deus que isso era bom.passaram-se a tarde e a manhã: esse foi o terceiro dia.declarou deus: haja luminares no firmamento do céu a fim de separar o dia da noite; e sirvam eles de sinais para definir as estações, dias e anos;e que sejam também luzeiros nos céus, para iluminar toda a terra! e assim aconteceu.deus fez os dois grandes luzeiros: o maior para governar o dia e o menor para regular o andamento da noite. e formou também as estrelas.deus colocou todas essas luzes nos céus a fim de iluminarem toda a terra,para dirigirem o andamento do dia e da noite e fazerem separação entre a luz e a escuridão. e observou deus que isso era bom.passaram-se a tarde e a manhã: esse foi o quarto dia.disse também deus: fervilhem as águas um fervilhar de seres vivos e que as aves voem acima da terra, sob o firmamento do céu! e assim aconteceu.dessa forma, deus criou os grandes animais aquáticos e os demais seres vivos que povoam as águas, em conformidade com suas muitas espécies; e todas as aves, também de acordo com suas espécies. e observou deus que isso era bom.então deus os abençoou, declarando: sede fecundos, multiplicai-vos! enchei as águas dos mares. e que também as aves se multipliquem na terra!passaram-se a tarde e a manhã: esse foi o quinto dia.e disse deus: que a terra produza seres vivos segundo suas espécies: rebanhos domésticos, animais selvagens e todos os demais seres viventes da terra, cada um de acordo com sua espécie! e assim aconteceu.deus fez, portanto, todas as feras selvagens segundo suas espécies, os rebanhos domésticos conforme suas espécies, répteis, e todos os demais seres vivos, cada qual de acordo com sua espécie. e observou deus que isso era bom.então deus determinou: façamos o ser humano à nossa imagem, de acordo com a nossa semelhança. dominem eles sobre os peixes do mar, sobre as aves do céu, sobre os grandes animais e todas as feras da terra, e sobre todos os pequenos seres viventes que se movem rente ao chão!deus, portanto, criou os seres humanos à sua imagem, à imagem de deus os criou: macho e fêmea os criou.deus os abençoou e lhes ordenou: sede férteis e multiplicai-vos! povoai e sujeitai toda a terra; dominai sobre os peixes do mar, sobre as aves do céu e sobre todo animal que rasteja sobre a terra!e acrescentou deus: eis que vos dou todas as plantas que nascem por toda a terra e produzem sementes, e todas as árvores que dão frutos com sementes: esse será o vosso alimento!também dou a todos os animais da terra, a todas as aves dos céus, a todos os répteis da terra, e a todas as criaturas em que há fôlego de vida, todos os vegetais existentes, como mantimento e sustento! e assim aconteceu.então deus contemplou toda a sua criação, e eis que tudo era muito bom. houve, assim, a tarde e a manhã: esse foi o sexto dia.',\n",
       " 'assim foram concluídos o céu e a terra, como todo o seu exército.no sétimo dia, deus já havia terminado a obra que determinara; nesse dia descansou de todo o trabalho que havia realizado.então abençoou deus o sétimo dia e o santificou, porquanto nele descansou depois de toda a obra que empreendera na criação.esta é a história do início da humanidade, no tempo em que yahweh deus criou o céu e a terra:não havia ainda brotado nenhum arbusto sobre a terra e nenhuma erva dos campos tinha ainda crescido, porque o senhor não havia feito chover sobre a terra e não havia homem para cultivar o solo.entretanto, fontes de água brotavam da terra e regavam toda a superfície do solo.então o senhor modelou o ser humano do pó da terra, feito argila, e soprou em suas narinas o fôlego de vida, e o homem se tornou um ser vivente.ora, yahweh, deus, havia plantado um jardim na região do éden, no oriente, para os lados do leste, e ali colocou o ser humano que formara.o senhor deus fez nascer do solo toda espécie de árvores agradáveis aos olhos e boas para alimento. e no meio desse jardim estavam a árvore da vida e a árvore do conhecimento do bem e do mal.na região do éden nascia um rio que irrigava todo o jardim e depois se dividia em quatro.o nome do primeiro é pisom. ele percorre todo o território de havilá, onde existe ouro.o ouro daquela terra é de pureza excelente; terra na qual se encontra o bdélio, raro perfume, e a valiosa pedra ônix.o segundo, que percorre toda a terra de cuxe, é chamado giom.o terceiro, que flui pelo lado leste da assíria, é o conhecido rio tigre. e o quarto, é o grande rio eufrates.assim, yahweh deus, o senhor, tomou o homem e o colocou no jardim do éden para zelar por ele e nele fazer suas plantações.e o senhor deu a seguinte ordem ao homem: comerás livremente o fruto de qualquer espécie de árvore que está no jardim;contudo, não comerás da árvore do conhecimento do bem e do mal, porque no dia em que dela comeres, com toda a certeza morrerás!então declarou yahweh, o senhor: não é bom que o ser humano viva sem a companhia de um semelhante; farei para ele alguém que o ajude e a ele corresponda!sendo assim, o senhor modelou, do solo, todos os animais selvagens e todas as aves do céu e, em seguida, os trouxe à presença do homem para ver como este os chamaria; e o nome que o homem desse a cada ser vivo, esse precisamente seria seu nome.e, desse modo, o homem nomeou a todos os animais: os rebanhos domésticos, as aves do céu e a todas as feras. entretanto, não se encontrou para o próprio ser humano alguém que com ele cooperasse e a ele correspondesse intimamente.então, yahweh deus fez adão cair em profundo sono e, enquanto este dormia, retirou-lhe parte de um dos lados do corpo e uma costela, e fechou o lugar com carne.com a costela que havia tirado do homem, o senhor deus modelou uma mulher e a conduziu até ele.então exclamou adão: esta, sim, é osso dos meus ossos e carne da minha carne! ela será chamada ‘mulher’, porquanto do ‘homem’ foi extraída.por esse motivo é que o homem deixa a guarda de seu pai e sua mãe, para se unir à sua mulher, e eles se tornam uma só carne.o homem e a mulher viviam nus e não se envergonhavam.',\n",
       " 'a serpente era o mais astuto de todos os animais dos campos, que yahweh deus havia feito. e aconteceu que ela questionou com a mulher: então foi isto mesmo que deus falou: ‘vós não podeis comer nenhum dos frutos das árvores do jardim?’ao que declarou a mulher à serpente: nós podemos comer dos frutos das árvores do jardim.mas do fruto da árvore que está no centro do jardim, deus disse: ‘dele não comereis, nele não tocareis, para que não morrais!’a serpente então alegou à mulher: com toda a certeza não morrereis!ora, deus sabe que, no dia em que dele comerdes, vossos olhos se abrirão, e vós, como deus, sereis conhecedores do bem e do mal!quando a mulher observou que a árvore realmente parecia agradável ao paladar, muito atraente aos olhos e, além de tudo, desejável para dela se obter sagacidade, tomou do seu fruto, comeu-o e o deu a seu marido, que estava em sua companhia, e ele igualmente comeu.então os olhos dos dois se abriram, e perceberam que estavam nus; em seguida entrelaçaram folhas de figueira e fizeram cintas para cobrir-se.naquele dia, quando soprava a brisa vespertina, o homem e sua mulher ouviram o som da movimentação de yahweh deus, que estava passeando pelo jardim, e procuraram esconder-se da presença do senhor, entre as árvores do jardim.mas o senhor deus convocou o homem, indagando: onde é que estás?o homem declarou: ouvi o som do teu caminhar no jardim e, vendo que estava nu, tive receio; por essa razão me escondi!então, deus o questionou: e quem te fez saber que estavas nu? comeste, então, da árvore que te proibi de comer?replicou o homem: foi a mulher que me deste por auxiliadora; ela me deu do fruto da árvore e eu comi.ao que o senhor deus inquiriu à mulher: que é isso que fizeste? redarguiu a mulher: a serpente me enganou e eu comi.então yahweh deus determinou à serpente: porque fizeste isso, és maldita entre todos os animais domésticos e o és entre todos os animais selvagens! rastejarás sobre o teu próprio ventre, e comerás do pó da terra todos os dias da tua vida.estabelecerei inimizade entre ti e a mulher, entre a tua descendência e o descendente dela; porquanto, este te ferirá a cabeça, e tu lhe picarás o calcanhar.para a mulher sentenciou o senhor: multiplicarei grandemente o teu sofrimento na gravidez; em meio à agonia darás à luz filhos; seguirás desejando influenciar o teu marido, mas ele te dominará!então voltou-se para o homem e ordenou: porque escutaste a voz de tua mulher e comeste da árvore que eu te proibira comer, maldita é a terra por tua causa! com sofrimentos obterás do solo o teu alimento, todos os dias da tua vida.a terra produzirá espinhos e ervas daninhas, e tu terás de comer das plantas do campo.com o suor do teu rosto comerás o teu pão, até que voltes ao solo, pois da terra foste formado; porque tu és pó e ao pó da terra retornarás!assim, adão deu à sua mulher o nome de eva, porquanto ela seria mãe de toda a humanidadefez yahweh deus túnicas de pele e com elas vestiu adão e eva, sua mulher.então declarou yahweh deus: eis que agora o ser humano tornou-se como um de nós, conhecendo o bem e o mal. não devemos permitir que ele também estenda a sua mão e tome do fruto da árvore da vida e comendo-o possa viver para sempre!por isso o senhor expulsou o ser humano do jardim do éden e fez que ele lavrasse a terra da qual havia sido formado.deus baniu adão e eva e no lado leste do jardim do éden estabeleceu seus querubins e uma espada flamejante que se movia em todas as direções, evitando assim que alguém tivesse acesso à árvore da vida.',\n",
       " 'então adão teve relações sexuais com eva, sua mulher; ela concebeu e deu à luz caim, e declarou: com a ajuda do senhor, tive um filho homemvoltou a engravidar e desta vez lhe nasceu abel, irmão de caim. abel tornou-se pastor de ovelhas e caim cultivava a terra.passado o tempo, caim apresentou alguns produtos do solo, em oferenda ao senhor.abel, por sua vez, ofereceu as primícias e a gordura de seu rebanho. ora, o senhor aceitou com alegria a abel e sua oferta.todavia, não se agradou de caim e de sua oferenda; e, por esse motivo, caim ficou muito irado e seu semblante assumiu uma expressão maligna.então o senhor abordou caim: por que estás furioso? e por qual motivo teu rosto está transtornado?se procederes bem, não é certo que serás aceito? entretanto, se assim não fizeres, sabe que o pecado espreita à tua porta e deseja destruir-te; cabe a ti vencê-lo!contudo, propôs caim a seu irmão abel: saiamos, vamos ao campo! e, quando estavam no campo, aconteceu que caim se levantou contra abel, seu irmão, e o matou.então o senhor inquiriu caim: onde está teu irmão abel? retrucou caim: não sei; acaso sou eu o protetor do meu irmão?exclamou o senhor: que fizeste? ouve! da terra, o sangue do teu irmão clama a mim.portanto, agora és mais amaldiçoado que a terra que abriu a boca para tragar, de tuas mãos, o sangue de teu irmão.quando cultivares o solo, este não te fornecerá mais da sua força; serás um fugitivo errante pelo mundo!apelou caim ao senhor: meu castigo é maior do que posso suportar.vê! hoje tu me expulsas desta terra, e terei de me esconder da tua face; serei um fugitivo errante pelo mundo, e qualquer que me encontrar me matará!contudo, o senhor lhe asseverou: não acontecerá assim! se alguém matar a caim, sofrerá sete vezes a vingança. e o senhor colocou em caim um sinal, para que ninguém que viesse a encontrá-lo o matasse.então caim coabitou com sua mulher, ela engravidou e deu à luz enoque. depois caim fundou uma cidade, à qual deu o nome do seu filho, enoque.enoque foi pai de irade, que foi pai de meujael, que foi pai de metusael, que foi pai de lameque.lameque tomou para si duas esposas: uma se chamava ada, e a outra, zilá.ada deu à luz um filho chamado jabal, que foi o antepassado dos que criam rebanhos e vivem em tendas.jabal tinha um irmão chamado jubal, antepassado de todos os músicos que tocam harpa e flauta.zilá também deu à luz um filho, chamado tubalcaim, artífice de todo instrumento cortante, de bronze e de ferro; a irmã de tubalcaim foi naamá.então lameque vangloriou-se diante de suas esposas: ada e zilá, ouvi-me! vós, mulheres de lameque, escutai o que passo a declarar-vos: matei um homem por causa de ferimentos que me causara; e uma criança porque me ofendeu.ora, se caim é vingado setes vezes, lameque pode ser, setenta vezes sete!novamente adão teve relações sexuais com sua esposa, e ela deu à luz outro filho a quem chamou de sete, exclamando: deus me concedeu outro filho para ficar em lugar de abel, que foi morto por caim!sete foi pai e deu a seu filho o nome de enos, que foi o primeiro a proclamar o nome de yahweh!',\n",
       " 'este é o registro da descendência de adão:homem e mulher os criou, e os abençoou e lhes deu o nome de humanos.quando adão completou cento e trinta anos, gerou um filho à sua semelhança, como sua imagem, e lhe deu o nome de sete.o tempo que viveu adão depois do nascimento de sete foi de oitocentos anos, e gerou filhos e filhas.toda a duração da vida de adão foi de novecentos e trinta anos; depois morreu.quando sete completou cento e cinco anos, gerou enos.depois do nascimento de enos, sete viveu oitocentos e sete anos, e gerou filhos e filhas.toda a duração da vida de sete foi de novecentos e doze anos; depois morreu.quando enos completou noventa anos, gerou cainã.depois do nascimento de cainã, enos viveu oitocentos e quinze anos, e gerou filhos e filhas.toda a duração da vida de enos foi de novecentos e cinco anos; depois morreu.quando cainã completou setenta anos, gerou maalaleel.depois do nascimento de maalaleel, cainã viveu oitocentos e quarenta anos, e gerou filhos e filhas.toda a duração da vida de cainã foi de novecentos e dez anos; depois morreu.quando maalaleel completou sessenta e cinco anos, gerou jarede.depois do nascimento de jarede, maalaleel viveu oitocentos e trinta anos, e gerou filhos e filhas.toda a duração da vida de maalaleel foi de oitocentos e noventa e cinco anos; depois morreu.quando jarede completou cento e sessenta e dois anos, gerou enoque.depois do nascimento de enoque, jarede viveu oitocentos anos e gerou filhos e filhas.toda a duração da vida de jarede foi de novecentos e sessenta e dois anos; depois morreu.quando enoque completou sessenta e cinco anos, gerou a matusalém.depois que gerou matusalém, enoque andou com deus mais trezentos anos e gerou filhos e filhas.toda a duração da vida de enoque foi de trezentos e sessenta e cinco anos.enoque andou sempre em comunhão com deus e um dia desapareceu, porquanto deus o arrebatou!quando matusalém completou cento e oitenta e sete anos, gerou a lameque.depois do nascimento de lameque, matusalém viveu setecentos e oitenta e dois anos, e gerou filhos e filhas.toda a duração da vida de matusalém foi de novecentos e sessenta e nove anos; depois morreu.quando lameque completou cento e oitenta e dois anos, gerou um filho.deu-lhe o nome de noé, porque profetizou ele: este nos aliviará do nosso árduo trabalho e do sofrimento de nossas mãos, causados pela dureza desta terra que o senhor amaldiçoou!depois do nascimento de noé, lameque viveu quinhentos e noventa e cinco anos, e gerou filhos e filhas.toda a duração da vida de lameque foi de setecentos e setenta e sete anos; depois morreu.quando noé completou quinhentos anos, já havia gerado sem, cam e jafé.',\n",
       " 'então, quando a humanidade começou a se multiplicar sobre a face da terra e nasceram muitas mulheres,os filhos de deus viram que as filhas dos homens eram atraentes, e escolheram, para si, aquelas que lhes agradaram os olhos.então, declarou o senhor: por causa da malignidade do ser humano mortal, o espírito que lhe dei não permanecerá nele para sempre; portanto, ele não viverá além dos cento e vinte anos!ora, naquela época, e também algum tempo depois, havia nefilins na terra, quando os filhos de deus possuíram as filhas dos homens e elas lhes deram filhos. esses gigantes foram os heróis dos tempos antigos, homens rudes e famosos!contudo, o senhor observou que a perversidade do ser humano havia crescido muito na terra e que toda a motivação das ideias que provinham das suas entranhas era sempre e somente inclinada à prática do mal.então o senhor entristeceu-se muito por haver criado os seres humanos sobre a terra, e esse sentimento feriu profundamente seu coração.declarou então o senhor: farei desaparecer da superfície do solo os seres humanos que criei, todos os homens; os grandes animais até os pequenos seres; e as aves do céu. arrependo-me de havê-los feito!contudo, a noé, o senhor demonstrou sua graça e misericórdia.eis a história de noé:noé gerou três filhos: sem, cam e jafé.a terra se perverteu diante de deus e encheu-se de violência.deus observou a terra e viu a que ponto de perversão havia chegado toda a humanidade, com suas práticas malignas.então declarou deus a noé: eis que darei fim a todos os seres humanos, porquanto a terra encheu-se de violência por causa deles. eu os destruirei juntamente com a terra.faze uma arca de madeira resinosa; tu a farás de caniços e a calafetarás com betume por dentro e por fora.exatamente deste modo a farás: para o comprimento da arca, trezentos côvados; para sua largura, cinquenta côvados; para sua altura, trinta côvados.farás um teto para a arca e o rematarás um côvado mais alto; farás a entrada da arca pelo lado, e farás um primeiro, um segundo, e um terceiro andar.da minha parte, mandarei o dilúvio, muitas e muitas águas sobre a terra, a fim de que exterminem de debaixo do céu toda a carne que tiver fôlego de vida: tudo o que há sobre a face da terra deve perecer!mas estabelecerei minha aliança contigo e entrarás na arca, tu e teus filhos, tua esposa e as mulheres de teus filhos, contigo.de tudo o que vive, de tudo o que é carne, farás entrar na arca dois de cada espécie, um macho e uma fêmea, para os conservares em vida contigo.de cada espécie de aves, de cada espécie de animais, de cada espécie de todos os répteis do solo, virá contigo um casal, para os conservares em vida.quanto a ti, reúne todo tipo de alimento e armazena-o; isso servirá de alimento para ti e para eles.noé assim fez; tudo em conformidade com o que deus lhe ordenara, ele concluiu a obra.',\n",
       " 'então o senhor ordenou a noé: entra na arca, tu e toda a tua família, porque és o único justo que observo diante de mim no meio desta geração.de todos os animais puros, tomarás sete pares, o macho e sua fêmea; dos animais que não são puros, tomarás apenas um casal, o macho e sua fêmea;tomarás também sete casais de aves de cada espécie, macho e fêmea, a fim de preservá-las em toda a terra.porque, daqui a sete dias, farei chover sobre a terra durante quarenta dias e quarenta noites, e farei desaparecer da superfície da terra todos os seres que eu fiz!assim, noé fez tudo o que o senhor lhe ordenara.noé tinha seiscentos anos quando veio o dilúvio, as muitas águas sobre a terra.noé com seus filhos, sua mulher e as mulheres de seus filhos, entraram na arca para se livrar das águas do dilúvio.e aconteceu que os casais de animais grandes, puros e impuros, de aves e de todos os animais pequenos que se movem rente ao chão,vieram a noé e entraram na arca, exatamente como deus havia orientado noé.passados sete dias desabaram as grandes águas do dilúvio sobre a terra!no dia em que noé completou seiscentos anos um mês e dezessete dias, precisamente nesse mesmo dia, todas as fontes das grandes profundezas jorraram, e as comportas do céu se romperam.e a chuva caiu sobre a terra, quarenta dias e quarenta noites.naquele mesmo dia, noé e seus filhos, sem, cam e jafé, com sua esposa e as esposas de seus três filhos, entraram na arca.com eles entraram todos os animais conforme as suas espécies: todos os animais grandes e selvagens, todos os rebanhos domésticos, todos os demais seres vivos pequenos e os que rastejam pelo solo, assim como todas as criaturas que têm asas: todas as aves e todos os outros animais que voam.com noé, abrigaram-se na arca casais de todas as criaturas que tinham o fôlego de vida.os animais que entraram eram um macho e uma fêmea de tudo o que é considerado ser vivo, de acordo com o que deus ordenara a noé. então o senhor fechou a porta por fora.durante quarenta dias permaneceu o dilúvio sobre a terra; cresceram as águas e ergueram a arca, que ficou elevada acima da terra.as águas subiram e se avolumaram muito sobre a terra, e a arca flutuava sobre as muitas águas.as águas aumentaram cada vez mais sobre a terra, e as mais altas montanhas que estão sob todo o céu foram totalmente cobertas!as águas subiram até cerca de sete metros acima das montanhas.pereceram então todos os seres vivos que se movem sobre a face da terra: aves, animais domésticos, feras, todas as pequenas criaturas que povoam a terra e todos os seres humanos.morreu tudo o que tinha um sopro de vida nas narinas. isto é, tudo o que estava vivo sobre a terra firme.assim desapareceram todos os seres que se moviam na superfície do solo: não sobreviveu um só homem, assim como todos os animais grandes, os animais pequenos que rastejam pelo chão e as aves do céu. somente sobreviveram noé e os que com ele estavam na arca.e a enchente prevaleceu sobre a terra durante cento e cinquenta dias.',\n",
       " 'deus lembrou-se então de noé e de todos os animais selvagens, de todos os rebanhos domésticos, e de todas as criaturas que estavam com ele na grande embarcação, e enviou um forte vento sobre a terra, e as águas começaram a baixar.fecharam-se as fontes do abismo e as comportas do céu, e a chuva foi detida no céu.as águas pouco a pouco se retiraram da terra. ao fim de cento e cinquenta dias, as águas haviam diminuído,e, no décimo sétimo dia do sétimo mês, a arca encalhou sobre as montanhas de ararate.as águas continuaram escoando até o décimo mês e, no primeiro dia do décimo mês, surgiram os topos das montanhas.no fim de quarenta dias, noé abriu a janela que fizera na arca.esperando que a terra já estivesse a descoberto, noé soltou um corvo; todavia, este ficou voando ao redor.depois soltou uma pomba, a fim de saber se as águas já haviam diminuído sobre a superfície da terra.mas a pomba deu voltas e não encontrou lugar onde pousar os pés, porquanto a terra ainda estava coberta de água e, por esse motivo, voltou para a arca. então noé estendeu a mão para fora, apanhou a pomba e abrigou-a novamente dentro da arca.noé aguardou mais sete dias e soltou outra vez a pomba.ao entardecer, quando a pomba retornou para ele, trouxe em seu bico uma folha nova de oliveira! assim, noé ficou sabendo que as águas tinham escoado da superfície da terra.ele esperou ainda mais sete dias, e novamente soltou a pomba, que não mais voltou para noé.no primeiro dia do primeiro mês do ano seiscentos e um da vida de noé, secaram-se as águas que inundavam a terra. noé, então, removeu o teto da arca e viu que a superfície da terra estava seca.no vigésimo sétimo dia do segundo mês, a terra já estava bem seca.então ordenou deus a noé:sai da tua arca, tu e tua esposa, teus filhos e as esposas de teus filhos contigo.todos os animais que estão contigo; todas as criaturas, as aves, os grandes animais e os pequenos, todos que se movem rente ao solo. faze-os deixar a arca contigo: que pululem sobre a face da terra, sejam fecundos e multipliquem-se sobre toda a terra!assim, noé e sua mulher saíram da embarcação, junto com seus filhos e suas noras.da mesma maneira saíram todos os animais e as aves, em grupos, de acordo com suas espécies.depois, noé construiu um altar dedicado ao senhor e, tomando alguns animais e aves, todos puros, ofereceu-os como holocausto, queimando-os sobre o altar.o senhor sentiu o aroma agradável da adoração e declarou a si mesmo: jamais amaldiçoarei a terra por causa do homem, porquanto seu íntimo é completamente inclinado para o mal, desde o nascimento. e nunca mais destruirei todos os seres nos quais há o fôlego da vida, como fiz desta vez.enquanto durar a terra, semeadura e colheita, frio e calor, verão e inverno, dia e noite, jamais cessarão seus ciclos naturais',\n",
       " 'deus abençoou noé e seus filhos, e determinou-lhes: sede fecundos, multiplicai-vos, enchei a terra.sede o medo e o pavor de todos os animais da terra e de todas as aves do céu, como de tudo o que se move na terra e de todos os peixes do mar: eles são entregues em vossas mãos.tudo o que se move e possui a vida vos servirá de alimento, tudo isso eu vos dou, como vos dei a verdura das plantas.mas não comereis a carne com sua alma, isto é, o sangue.certamente pedirei contas do sangue de cada um de vós. pedirei contas a todos os animais e ao homem; a cada indivíduo requererei contas da vida do seu próximo.quem derramar o sangue do ser humano; pelo próprio homem seu sangue será derramado; porquanto à imagem de deus foi a humanidade criada.quanto a vós, sede fecundos, multiplicai-vos, povoai a terra e dominai-a!então declarou deus a noé e a seus filhos que estavam com ele:eis que estabeleço minha aliança convosco e com os vossos descendentes depois de vós,e com todos os seres vivos que estão convosco: aves, animais, todas as feras, todas as criaturas que saíram da arca convosco, todos os animais da terra.estabeleço minha aliança convosco: tudo o que existe nunca mais será destruído pelas águas do dilúvio; não haverá mais outro dilúvio para devastar a terra!e deus afirmou: eis o sinal da aliança que instituo entre mim e vós e todos os seres vivos que estão convosco, para todas as gerações futuras:colocarei o meu arco nas nuvens, e ele se tornará um sinal fulgurante da aliança entre mim e a terra!quando eu reunir as nuvens sobre a terra e o arco surgir por entre as nuvens,eu me lembrarei da aliança que há entre mim e vós e todos os seres vivos de toda a carne. e as águas nunca mais se tornarão um dilúvio para destruir toda forma de vida.quando o arco estiver na nuvem, eu o verei e me lembrarei da aliança eterna que há entre deus e os seres vivos de todas as espécies que vivem sobre a face da terra!. e concluindo, asseverou deus a noé: este é o sinal da aliança que estabeleço entre mim e toda a forma de vida que existe sobre a face da terra!. os filhos de noé, que saíram da arca, foram sem, cam e jafé; cam é o pai de canaã. esses três foram filhos de noé e a partir deles se fez o povoamento de toda a terra. noé, era cultivador, e foi o primeiro a plantar uma vinha. bebeu do vinho que havia feito, embriagou-se e ficou dentro da sua tenda. cam, pai de canaã, notou que seu pai estava nu e foi contar aos dois irmãos que estavam do lado de fora. então sem e jafé tomaram uma capa, levantaram-na sobre os próprios ombros e, andando de costas para não verem a nudez do pai, cobriram-no. quando noé acordou da sua embriaguez, soube do que cam, seu filho mais jovem, havia feito.então esbravejou noé: maldito seja canaã! escravo de escravos será para seus irmãos.e acrescentou: bendito seja o senhor, o deus de sem! e seja canaã seu escravo.que deus amplie o território de jafé; habite ele nas tendas de sem, e seja canaã seu escravo!.depois do dilúvio, noé viveu mais trezentos e cinqüenta anos. toda a duração da vida de noé foi de novecentos e cinqüenta anos, depois morreu. ',\n",
       " 'eis a descendência de sem, cam e jafé, filhos de noé. os filhos deles nasceram depois do dilúvio.estes foram os descendentes de jafé: gômer, magogue, madai, java, tubal, meseque e tiras.estes foram os filhos de gômer: asquenaz, rifate e togarma.estes foram os filhos de javã: elisa, társis, quitim e dodanim.deles descendem os povos marítimos, os quais se dividiram em seu território, conforme sua língua, cada um segundo os clãs de suas nações.estes foram os descendentes de cam: cuxe, mizraim, pute e canaã.estes foram os filhos de cuxe: sebá, havilá, sabtá, raamá e sabtecá. estes foram os filhos de raamá: sabá e deda.cuxe gerou também ninrode, o primeiro homem poderoso na terra.ele foi o mais audaz e corajoso dos caçadores diante do senhor, e por esse motivo há o ditado: valente como ninrode!no início, o seu reino abrangia babel, ereque, acade e calné, nas terras da babilônia.dessa terra ele partiu para a assíria, onde fundou nínive, reobote-ir, calae resém, que fica entre nínive e cala, a grande cidade.mizraim deu origem aos luditas, anamitas, leabitas, naftuítas,patrusitas, casluítas, dos quais descenderam os filisteus, e os caftoritas.canaã gerou sidom, seu filho mais velho, os sidônios, os primeiros; e os hititas;também deu origem aos jebuseus, aos amorreus, aos girgaseus,aos heveus, aos arqueus, aos sineus,aos arvadeus, aos zemareus e aos hamateus; e mais tarde se espalharam as famílias dos cananeus.e os limites das terras de canaã estendiam-se desde sidom, indo até gerar e chegavam a gaza e, de lá, prosseguiam até sodoma, gomorra, admá e zeboim até lasa.são esses os povos e culturas que descenderam de cam, conforme seus grupos familiares e línguas, em seus territórios e nações.uma descendência nasceu de semelhante modo a sem, pai de todos os filhos de héber e irmão mais velho de jafé.estes foram os filhos de sem: elão, assur, arfaxade, lude e arã.estes foram os descendentes de arã: uz, hul, géter e meseque.arfaxade gerou cainã, e cainã gerou salá, que gerou héber.héber deu origem a dois filhos: um deles se chamou pelegue, porquanto em sua época a terra foi dividida; seu irmão recebeu o nome de joctã.joctã gerou a almodá, salefe, hazar-mavé, jerá,adorão, uzal, dicla,obal, abimael, sabá,ofir, havilá e jobabe. todos esses descenderam de joctã.e habitavam uma região que se estendia desde messa até sefar, nas colinas ao leste.são esses os filhos de sem, segundo seus clãs e línguas, em suas terras, culturas e nações.são esses os grupos familiares dos filhos de noé, de acordo com suas gerações, divididos em suas nações e culturas, em conformidade com a história da sua descendência. a partir deles, os povos se dispersaram por toda a terra, depois do dilúvio.']"
      ]
     },
     "execution_count": 56,
     "metadata": {},
     "output_type": "execute_result"
    }
   ],
   "source": [
    "corpus"
   ]
  },
  {
   "cell_type": "code",
   "execution_count": null,
   "id": "b438d17a",
   "metadata": {},
   "outputs": [],
   "source": []
  }
 ],
 "metadata": {
  "kernelspec": {
   "display_name": "Python 3 (ipykernel)",
   "language": "python",
   "name": "python3"
  },
  "language_info": {
   "codemirror_mode": {
    "name": "ipython",
    "version": 3
   },
   "file_extension": ".py",
   "mimetype": "text/x-python",
   "name": "python",
   "nbconvert_exporter": "python",
   "pygments_lexer": "ipython3",
   "version": "3.9.6"
  }
 },
 "nbformat": 4,
 "nbformat_minor": 5
}
