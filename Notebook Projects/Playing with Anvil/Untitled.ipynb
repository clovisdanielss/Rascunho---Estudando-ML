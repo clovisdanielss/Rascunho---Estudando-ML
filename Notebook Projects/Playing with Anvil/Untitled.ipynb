{
 "cells": [
  {
   "cell_type": "code",
   "execution_count": 1,
   "id": "791400f3-630a-49f1-97d2-45cdb08497e7",
   "metadata": {},
   "outputs": [
    {
     "name": "stdout",
     "output_type": "stream",
     "text": [
      "Connecting to wss://anvil.works/uplink\n",
      "Anvil websocket open\n",
      "Connected to \"Default environment\" as SERVER\n"
     ]
    }
   ],
   "source": [
    "import anvil\n",
    "\n",
    "anvil.server.connect(\"XXKECBTDUXVB2ZW3ZNO4OIXA-6DO5XQHMRVN7KI4P\")"
   ]
  },
  {
   "cell_type": "code",
   "execution_count": 10,
   "id": "4c11e141-42b6-4019-9278-5291a6968d5c",
   "metadata": {},
   "outputs": [
    {
     "data": {
      "text/plain": [
       "([82, 32, 84, 29, 46, 60, 61, 18, 90, 23],\n",
       " [64, 27, 79, 41, 34, 16, 21, 94, 78, 6])"
      ]
     },
     "execution_count": 10,
     "metadata": {},
     "output_type": "execute_result"
    }
   ],
   "source": [
    "import matplotlib.pyplot as plt\n",
    "%matplotlib inline\n",
    "from random import randint\n",
    "\n",
    "@anvil.server.callable\n",
    "def random_plot(n):\n",
    "    return [randint(0,100) for i in range(n)],[randint(0,100) for i in range(n)]\n",
    "    \n",
    "random_plot(10)"
   ]
  },
  {
   "cell_type": "code",
   "execution_count": null,
   "id": "e468d134-49f6-44cf-9965-85839df4e270",
   "metadata": {},
   "outputs": [],
   "source": []
  }
 ],
 "metadata": {
  "kernelspec": {
   "display_name": "Python 3 (ipykernel)",
   "language": "python",
   "name": "python3"
  },
  "language_info": {
   "codemirror_mode": {
    "name": "ipython",
    "version": 3
   },
   "file_extension": ".py",
   "mimetype": "text/x-python",
   "name": "python",
   "nbconvert_exporter": "python",
   "pygments_lexer": "ipython3",
   "version": "3.9.6"
  }
 },
 "nbformat": 4,
 "nbformat_minor": 5
}
