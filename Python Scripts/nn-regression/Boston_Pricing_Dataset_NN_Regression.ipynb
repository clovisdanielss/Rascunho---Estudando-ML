{
  "nbformat": 4,
  "nbformat_minor": 0,
  "metadata": {
    "colab": {
      "name": "Boston Pricing Dataset NN Regression.ipynb",
      "provenance": [],
      "authorship_tag": "ABX9TyPR6KH7Ya46rx/CG4TGFjoF",
      "include_colab_link": true
    },
    "kernelspec": {
      "name": "python3",
      "display_name": "Python 3"
    },
    "language_info": {
      "name": "python"
    },
    "accelerator": "GPU"
  },
  "cells": [
    {
      "cell_type": "markdown",
      "metadata": {
        "id": "view-in-github",
        "colab_type": "text"
      },
      "source": [
        "<a href=\"https://colab.research.google.com/github/clovisdanielss/Estudando/blob/master/Python%20Scripts/nn-regression/Boston_Pricing_Dataset_NN_Regression.ipynb\" target=\"_parent\"><img src=\"https://colab.research.google.com/assets/colab-badge.svg\" alt=\"Open In Colab\"/></a>"
      ]
    },
    {
      "cell_type": "markdown",
      "source": [
        " ### Intro\n",
        "\n",
        " In this notebook we we'll be making a regression to predict the MEDV for an house in Boston. For doing so, we'll use the following dataset.\n",
        "\n",
        "\n",
        " Features in order:\n",
        "\n",
        "|Feature | Description|\n",
        "|--- |---|\n",
        "|CRIM|     per capita crime rate by town|\n",
        "|ZN|       proportion of residential land zoned for lots over 25,000 sq.ft.\n",
        "|INDUS|    proportion of non-retail business acres per town\n",
        "|CHAS|     Charles River dummy variable (= 1 if tract bounds river; 0 otherwise)\n",
        "|NOX   |   nitric oxides concentration (parts per 10 million)\n",
        "|RM    |   average number of rooms per dwelling\n",
        "|AGE   |   proportion of owner-occupied units built prior to 1940\n",
        "|DIS  |    weighted distances to five Boston employment centres\n",
        "|RAD |     index of accessibility to radial highways\n",
        "|TAX|      full-value property-tax rate per \\$10,000\n",
        "|PTRATIO|  pupil-teacher ratio by town\n",
        "|B|        1000(Bk - 0.63)^2 where Bk is the proportion of blacks by town\n",
        "|LSTAT|    % lower status of the population\n",
        "|MEDV|     Median value of owner-occupied homes in $1000's"
      ],
      "metadata": {
        "id": "OWS05RUKYwtN"
      }
    },
    {
      "cell_type": "code",
      "execution_count": 48,
      "metadata": {
        "id": "B9xwkkKYXrcz"
      },
      "outputs": [],
      "source": [
        "import tensorflow as tf\n",
        "import pandas as pd\n",
        "import matplotlib.pyplot as plt\n",
        "import seaborn as sns\n",
        "import math\n",
        "tf.random.set_seed(42)"
      ]
    },
    {
      "cell_type": "code",
      "source": [
        "ds = tf.keras.datasets.boston_housing.load_data(test_split=.2)"
      ],
      "metadata": {
        "id": "d7MW4oZFXytm"
      },
      "execution_count": 49,
      "outputs": []
    },
    {
      "cell_type": "code",
      "source": [
        "dstrain, dstest = ds"
      ],
      "metadata": {
        "id": "rQ-OG0lHX_tM"
      },
      "execution_count": 50,
      "outputs": []
    },
    {
      "cell_type": "code",
      "source": [
        "dstrain_x = pd.DataFrame(dstrain[0], columns = [\"CRIM\", \"ZN\", \"INDUS\", \"CHAS\", \"NOX\", \"RM\", \"AGE\", \"DIS\", \"RAD\", \"TAX\", \"PTRATIO\", \"B\", \"LSTAT\" ])\n",
        "dstrain_y = dstrain[1]\n",
        "dstest_x = pd.DataFrame(dstest[0], columns = [\"CRIM\", \"ZN\", \"INDUS\", \"CHAS\", \"NOX\", \"RM\", \"AGE\", \"DIS\", \"RAD\", \"TAX\", \"PTRATIO\", \"B\", \"LSTAT\" ])\n",
        "dstest_y = dstest[1]"
      ],
      "metadata": {
        "id": "CpXmZd_9YOwT"
      },
      "execution_count": 51,
      "outputs": []
    },
    {
      "cell_type": "code",
      "source": [
        "pd.concat([dstrain_x, pd.Series(dstrain_y, name=\"Prices $1000\")], axis=1)"
      ],
      "metadata": {
        "colab": {
          "base_uri": "https://localhost:8080/",
          "height": 424
        },
        "id": "Kwkao3XnegNT",
        "outputId": "593d16b5-9f4a-4fd4-b51a-b5a9885a6fe8"
      },
      "execution_count": 52,
      "outputs": [
        {
          "output_type": "execute_result",
          "data": {
            "text/plain": [
              "        CRIM    ZN  INDUS  CHAS     NOX     RM    AGE     DIS   RAD    TAX  \\\n",
              "0    1.23247   0.0   8.14   0.0  0.5380  6.142   91.7  3.9769   4.0  307.0   \n",
              "1    0.02177  82.5   2.03   0.0  0.4150  7.610   15.7  6.2700   2.0  348.0   \n",
              "2    4.89822   0.0  18.10   0.0  0.6310  4.970  100.0  1.3325  24.0  666.0   \n",
              "3    0.03961   0.0   5.19   0.0  0.5150  6.037   34.5  5.9853   5.0  224.0   \n",
              "4    3.69311   0.0  18.10   0.0  0.7130  6.376   88.4  2.5671  24.0  666.0   \n",
              "..       ...   ...    ...   ...     ...    ...    ...     ...   ...    ...   \n",
              "399  0.21977   0.0   6.91   0.0  0.4480  5.602   62.0  6.0877   3.0  233.0   \n",
              "400  0.16211  20.0   6.96   0.0  0.4640  6.240   16.3  4.4290   3.0  223.0   \n",
              "401  0.03466  35.0   6.06   0.0  0.4379  6.031   23.3  6.6407   1.0  304.0   \n",
              "402  2.14918   0.0  19.58   0.0  0.8710  5.709   98.5  1.6232   5.0  403.0   \n",
              "403  0.01439  60.0   2.93   0.0  0.4010  6.604   18.8  6.2196   1.0  265.0   \n",
              "\n",
              "     PTRATIO       B  LSTAT  Prices $1000  \n",
              "0       21.0  396.90  18.72          15.2  \n",
              "1       14.7  395.38   3.11          42.3  \n",
              "2       20.2  375.52   3.26          50.0  \n",
              "3       20.2  396.90   8.01          21.1  \n",
              "4       20.2  391.43  14.65          17.7  \n",
              "..       ...     ...    ...           ...  \n",
              "399     17.9  396.90  16.20          19.4  \n",
              "400     18.6  396.90   6.59          25.2  \n",
              "401     16.9  362.25   7.83          19.4  \n",
              "402     14.7  261.95  15.79          19.4  \n",
              "403     15.6  376.70   4.38          29.1  \n",
              "\n",
              "[404 rows x 14 columns]"
            ],
            "text/html": [
              "\n",
              "  <div id=\"df-543f1691-c86a-473c-9c3f-3c05cc0367ad\">\n",
              "    <div class=\"colab-df-container\">\n",
              "      <div>\n",
              "<style scoped>\n",
              "    .dataframe tbody tr th:only-of-type {\n",
              "        vertical-align: middle;\n",
              "    }\n",
              "\n",
              "    .dataframe tbody tr th {\n",
              "        vertical-align: top;\n",
              "    }\n",
              "\n",
              "    .dataframe thead th {\n",
              "        text-align: right;\n",
              "    }\n",
              "</style>\n",
              "<table border=\"1\" class=\"dataframe\">\n",
              "  <thead>\n",
              "    <tr style=\"text-align: right;\">\n",
              "      <th></th>\n",
              "      <th>CRIM</th>\n",
              "      <th>ZN</th>\n",
              "      <th>INDUS</th>\n",
              "      <th>CHAS</th>\n",
              "      <th>NOX</th>\n",
              "      <th>RM</th>\n",
              "      <th>AGE</th>\n",
              "      <th>DIS</th>\n",
              "      <th>RAD</th>\n",
              "      <th>TAX</th>\n",
              "      <th>PTRATIO</th>\n",
              "      <th>B</th>\n",
              "      <th>LSTAT</th>\n",
              "      <th>Prices $1000</th>\n",
              "    </tr>\n",
              "  </thead>\n",
              "  <tbody>\n",
              "    <tr>\n",
              "      <th>0</th>\n",
              "      <td>1.23247</td>\n",
              "      <td>0.0</td>\n",
              "      <td>8.14</td>\n",
              "      <td>0.0</td>\n",
              "      <td>0.5380</td>\n",
              "      <td>6.142</td>\n",
              "      <td>91.7</td>\n",
              "      <td>3.9769</td>\n",
              "      <td>4.0</td>\n",
              "      <td>307.0</td>\n",
              "      <td>21.0</td>\n",
              "      <td>396.90</td>\n",
              "      <td>18.72</td>\n",
              "      <td>15.2</td>\n",
              "    </tr>\n",
              "    <tr>\n",
              "      <th>1</th>\n",
              "      <td>0.02177</td>\n",
              "      <td>82.5</td>\n",
              "      <td>2.03</td>\n",
              "      <td>0.0</td>\n",
              "      <td>0.4150</td>\n",
              "      <td>7.610</td>\n",
              "      <td>15.7</td>\n",
              "      <td>6.2700</td>\n",
              "      <td>2.0</td>\n",
              "      <td>348.0</td>\n",
              "      <td>14.7</td>\n",
              "      <td>395.38</td>\n",
              "      <td>3.11</td>\n",
              "      <td>42.3</td>\n",
              "    </tr>\n",
              "    <tr>\n",
              "      <th>2</th>\n",
              "      <td>4.89822</td>\n",
              "      <td>0.0</td>\n",
              "      <td>18.10</td>\n",
              "      <td>0.0</td>\n",
              "      <td>0.6310</td>\n",
              "      <td>4.970</td>\n",
              "      <td>100.0</td>\n",
              "      <td>1.3325</td>\n",
              "      <td>24.0</td>\n",
              "      <td>666.0</td>\n",
              "      <td>20.2</td>\n",
              "      <td>375.52</td>\n",
              "      <td>3.26</td>\n",
              "      <td>50.0</td>\n",
              "    </tr>\n",
              "    <tr>\n",
              "      <th>3</th>\n",
              "      <td>0.03961</td>\n",
              "      <td>0.0</td>\n",
              "      <td>5.19</td>\n",
              "      <td>0.0</td>\n",
              "      <td>0.5150</td>\n",
              "      <td>6.037</td>\n",
              "      <td>34.5</td>\n",
              "      <td>5.9853</td>\n",
              "      <td>5.0</td>\n",
              "      <td>224.0</td>\n",
              "      <td>20.2</td>\n",
              "      <td>396.90</td>\n",
              "      <td>8.01</td>\n",
              "      <td>21.1</td>\n",
              "    </tr>\n",
              "    <tr>\n",
              "      <th>4</th>\n",
              "      <td>3.69311</td>\n",
              "      <td>0.0</td>\n",
              "      <td>18.10</td>\n",
              "      <td>0.0</td>\n",
              "      <td>0.7130</td>\n",
              "      <td>6.376</td>\n",
              "      <td>88.4</td>\n",
              "      <td>2.5671</td>\n",
              "      <td>24.0</td>\n",
              "      <td>666.0</td>\n",
              "      <td>20.2</td>\n",
              "      <td>391.43</td>\n",
              "      <td>14.65</td>\n",
              "      <td>17.7</td>\n",
              "    </tr>\n",
              "    <tr>\n",
              "      <th>...</th>\n",
              "      <td>...</td>\n",
              "      <td>...</td>\n",
              "      <td>...</td>\n",
              "      <td>...</td>\n",
              "      <td>...</td>\n",
              "      <td>...</td>\n",
              "      <td>...</td>\n",
              "      <td>...</td>\n",
              "      <td>...</td>\n",
              "      <td>...</td>\n",
              "      <td>...</td>\n",
              "      <td>...</td>\n",
              "      <td>...</td>\n",
              "      <td>...</td>\n",
              "    </tr>\n",
              "    <tr>\n",
              "      <th>399</th>\n",
              "      <td>0.21977</td>\n",
              "      <td>0.0</td>\n",
              "      <td>6.91</td>\n",
              "      <td>0.0</td>\n",
              "      <td>0.4480</td>\n",
              "      <td>5.602</td>\n",
              "      <td>62.0</td>\n",
              "      <td>6.0877</td>\n",
              "      <td>3.0</td>\n",
              "      <td>233.0</td>\n",
              "      <td>17.9</td>\n",
              "      <td>396.90</td>\n",
              "      <td>16.20</td>\n",
              "      <td>19.4</td>\n",
              "    </tr>\n",
              "    <tr>\n",
              "      <th>400</th>\n",
              "      <td>0.16211</td>\n",
              "      <td>20.0</td>\n",
              "      <td>6.96</td>\n",
              "      <td>0.0</td>\n",
              "      <td>0.4640</td>\n",
              "      <td>6.240</td>\n",
              "      <td>16.3</td>\n",
              "      <td>4.4290</td>\n",
              "      <td>3.0</td>\n",
              "      <td>223.0</td>\n",
              "      <td>18.6</td>\n",
              "      <td>396.90</td>\n",
              "      <td>6.59</td>\n",
              "      <td>25.2</td>\n",
              "    </tr>\n",
              "    <tr>\n",
              "      <th>401</th>\n",
              "      <td>0.03466</td>\n",
              "      <td>35.0</td>\n",
              "      <td>6.06</td>\n",
              "      <td>0.0</td>\n",
              "      <td>0.4379</td>\n",
              "      <td>6.031</td>\n",
              "      <td>23.3</td>\n",
              "      <td>6.6407</td>\n",
              "      <td>1.0</td>\n",
              "      <td>304.0</td>\n",
              "      <td>16.9</td>\n",
              "      <td>362.25</td>\n",
              "      <td>7.83</td>\n",
              "      <td>19.4</td>\n",
              "    </tr>\n",
              "    <tr>\n",
              "      <th>402</th>\n",
              "      <td>2.14918</td>\n",
              "      <td>0.0</td>\n",
              "      <td>19.58</td>\n",
              "      <td>0.0</td>\n",
              "      <td>0.8710</td>\n",
              "      <td>5.709</td>\n",
              "      <td>98.5</td>\n",
              "      <td>1.6232</td>\n",
              "      <td>5.0</td>\n",
              "      <td>403.0</td>\n",
              "      <td>14.7</td>\n",
              "      <td>261.95</td>\n",
              "      <td>15.79</td>\n",
              "      <td>19.4</td>\n",
              "    </tr>\n",
              "    <tr>\n",
              "      <th>403</th>\n",
              "      <td>0.01439</td>\n",
              "      <td>60.0</td>\n",
              "      <td>2.93</td>\n",
              "      <td>0.0</td>\n",
              "      <td>0.4010</td>\n",
              "      <td>6.604</td>\n",
              "      <td>18.8</td>\n",
              "      <td>6.2196</td>\n",
              "      <td>1.0</td>\n",
              "      <td>265.0</td>\n",
              "      <td>15.6</td>\n",
              "      <td>376.70</td>\n",
              "      <td>4.38</td>\n",
              "      <td>29.1</td>\n",
              "    </tr>\n",
              "  </tbody>\n",
              "</table>\n",
              "<p>404 rows × 14 columns</p>\n",
              "</div>\n",
              "      <button class=\"colab-df-convert\" onclick=\"convertToInteractive('df-543f1691-c86a-473c-9c3f-3c05cc0367ad')\"\n",
              "              title=\"Convert this dataframe to an interactive table.\"\n",
              "              style=\"display:none;\">\n",
              "        \n",
              "  <svg xmlns=\"http://www.w3.org/2000/svg\" height=\"24px\"viewBox=\"0 0 24 24\"\n",
              "       width=\"24px\">\n",
              "    <path d=\"M0 0h24v24H0V0z\" fill=\"none\"/>\n",
              "    <path d=\"M18.56 5.44l.94 2.06.94-2.06 2.06-.94-2.06-.94-.94-2.06-.94 2.06-2.06.94zm-11 1L8.5 8.5l.94-2.06 2.06-.94-2.06-.94L8.5 2.5l-.94 2.06-2.06.94zm10 10l.94 2.06.94-2.06 2.06-.94-2.06-.94-.94-2.06-.94 2.06-2.06.94z\"/><path d=\"M17.41 7.96l-1.37-1.37c-.4-.4-.92-.59-1.43-.59-.52 0-1.04.2-1.43.59L10.3 9.45l-7.72 7.72c-.78.78-.78 2.05 0 2.83L4 21.41c.39.39.9.59 1.41.59.51 0 1.02-.2 1.41-.59l7.78-7.78 2.81-2.81c.8-.78.8-2.07 0-2.86zM5.41 20L4 18.59l7.72-7.72 1.47 1.35L5.41 20z\"/>\n",
              "  </svg>\n",
              "      </button>\n",
              "      \n",
              "  <style>\n",
              "    .colab-df-container {\n",
              "      display:flex;\n",
              "      flex-wrap:wrap;\n",
              "      gap: 12px;\n",
              "    }\n",
              "\n",
              "    .colab-df-convert {\n",
              "      background-color: #E8F0FE;\n",
              "      border: none;\n",
              "      border-radius: 50%;\n",
              "      cursor: pointer;\n",
              "      display: none;\n",
              "      fill: #1967D2;\n",
              "      height: 32px;\n",
              "      padding: 0 0 0 0;\n",
              "      width: 32px;\n",
              "    }\n",
              "\n",
              "    .colab-df-convert:hover {\n",
              "      background-color: #E2EBFA;\n",
              "      box-shadow: 0px 1px 2px rgba(60, 64, 67, 0.3), 0px 1px 3px 1px rgba(60, 64, 67, 0.15);\n",
              "      fill: #174EA6;\n",
              "    }\n",
              "\n",
              "    [theme=dark] .colab-df-convert {\n",
              "      background-color: #3B4455;\n",
              "      fill: #D2E3FC;\n",
              "    }\n",
              "\n",
              "    [theme=dark] .colab-df-convert:hover {\n",
              "      background-color: #434B5C;\n",
              "      box-shadow: 0px 1px 3px 1px rgba(0, 0, 0, 0.15);\n",
              "      filter: drop-shadow(0px 1px 2px rgba(0, 0, 0, 0.3));\n",
              "      fill: #FFFFFF;\n",
              "    }\n",
              "  </style>\n",
              "\n",
              "      <script>\n",
              "        const buttonEl =\n",
              "          document.querySelector('#df-543f1691-c86a-473c-9c3f-3c05cc0367ad button.colab-df-convert');\n",
              "        buttonEl.style.display =\n",
              "          google.colab.kernel.accessAllowed ? 'block' : 'none';\n",
              "\n",
              "        async function convertToInteractive(key) {\n",
              "          const element = document.querySelector('#df-543f1691-c86a-473c-9c3f-3c05cc0367ad');\n",
              "          const dataTable =\n",
              "            await google.colab.kernel.invokeFunction('convertToInteractive',\n",
              "                                                     [key], {});\n",
              "          if (!dataTable) return;\n",
              "\n",
              "          const docLinkHtml = 'Like what you see? Visit the ' +\n",
              "            '<a target=\"_blank\" href=https://colab.research.google.com/notebooks/data_table.ipynb>data table notebook</a>'\n",
              "            + ' to learn more about interactive tables.';\n",
              "          element.innerHTML = '';\n",
              "          dataTable['output_type'] = 'display_data';\n",
              "          await google.colab.output.renderOutput(dataTable, element);\n",
              "          const docLink = document.createElement('div');\n",
              "          docLink.innerHTML = docLinkHtml;\n",
              "          element.appendChild(docLink);\n",
              "        }\n",
              "      </script>\n",
              "    </div>\n",
              "  </div>\n",
              "  "
            ]
          },
          "metadata": {},
          "execution_count": 52
        }
      ]
    },
    {
      "cell_type": "markdown",
      "source": [
        "### Plotting some features"
      ],
      "metadata": {
        "id": "yGW4LEiLjRBH"
      }
    },
    {
      "cell_type": "code",
      "source": [
        "labels = [\"CRIM\", \"ZN\", \"INDUS\", \"CHAS\", \"NOX\", \"RM\", \"AGE\", \"DIS\", \"RAD\", \"TAX\", \"PTRATIO\", \"B\", \"LSTAT\" ]\n",
        "\n",
        "def plot_by_price(name):\n",
        "  plt.scatter(dstrain_x[name], dstrain_y)\n",
        "  plt.ylabel(\"Price\")\n",
        "  plt.xlabel(name)\n",
        "\n",
        "total_rows=5\n",
        "plt.figure(figsize=(15,20))\n",
        "for i in range(len(labels)):\n",
        "  plt.subplot(total_rows,math.ceil(len(labels)/total_rows),i+1)\n",
        "  plot_by_price(labels[i])"
      ],
      "metadata": {
        "colab": {
          "base_uri": "https://localhost:8080/",
          "height": 1000
        },
        "id": "uln14o72f6eH",
        "outputId": "1c8c6e48-4fe7-4c47-fe57-d20045ed564e"
      },
      "execution_count": 53,
      "outputs": [
        {
          "output_type": "display_data",
          "data": {
            "text/plain": [
              "<Figure size 1080x1440 with 13 Axes>"
            ],
            "image/png": "[encoded data removed]"
          },
          "metadata": {
            "needs_background": "light"
          }
        }
      ]
    },
    {
      "cell_type": "code",
      "source": [
        "dstrain_x.dtypes"
      ],
      "metadata": {
        "colab": {
          "base_uri": "https://localhost:8080/"
        },
        "id": "FvElA5XGf7Y0",
        "outputId": "ecca3dc7-4a3f-4e5e-fda1-50dc875017b3"
      },
      "execution_count": 54,
      "outputs": [
        {
          "output_type": "execute_result",
          "data": {
            "text/plain": [
              "CRIM       float64\n",
              "ZN         float64\n",
              "INDUS      float64\n",
              "CHAS       float64\n",
              "NOX        float64\n",
              "RM         float64\n",
              "AGE        float64\n",
              "DIS        float64\n",
              "RAD        float64\n",
              "TAX        float64\n",
              "PTRATIO    float64\n",
              "B          float64\n",
              "LSTAT      float64\n",
              "dtype: object"
            ]
          },
          "metadata": {},
          "execution_count": 54
        }
      ]
    },
    {
      "cell_type": "markdown",
      "source": [
        "Despite all our dtypes seems to be float64, we got some categorical data as we can see on the plot. We didn't do any data-preparation and we'll use a regression model to see the loss we can get even without data preparation.\n",
        "\n",
        "#### Testing a Dense Model without data preparation"
      ],
      "metadata": {
        "id": "1LzqRJqZjT9F"
      }
    },
    {
      "cell_type": "code",
      "source": [
        "model = tf.keras.models.Sequential([\n",
        "    tf.keras.layers.Dense(100, activation=\"relu\", input_shape=[13,]),\n",
        "    tf.keras.layers.Dense(1)\n",
        "])\n",
        "\n",
        "model.compile(optimizer=\"adam\", loss=tf.keras.losses.Huber(), metrics=[\"mae\"])\n",
        "\n",
        "log = model.fit(x=dstrain_x.to_numpy(), y=dstrain_y, epochs=100, verbose=False)\n",
        "log.history[\"mae\"][-1]"
      ],
      "metadata": {
        "colab": {
          "base_uri": "https://localhost:8080/"
        },
        "id": "7qcijvNZi3Y_",
        "outputId": "0d6994f1-a484-45ef-a326-04de55aeb667"
      },
      "execution_count": 55,
      "outputs": [
        {
          "output_type": "execute_result",
          "data": {
            "text/plain": [
              "3.301499128341675"
            ]
          },
          "metadata": {},
          "execution_count": 55
        }
      ]
    },
    {
      "cell_type": "code",
      "source": [
        "def plot_regression(data, target = dstrain_y):\n",
        "  pred = model.predict(data)\n",
        "  plt.scatter(target, pred, c=\"r\")\n",
        "  plt.plot(target, target, c=\"b\")\n",
        "  plt.xlabel(\"True Values\")\n",
        "  plt.ylabel(\"Prediction\")\n",
        "\n",
        "plt.figure(figsize=(10,4))\n",
        "plt.subplot(1,2,1)\n",
        "plot_regression(dstrain_x, dstrain_y)\n",
        "plt.subplot(1,2,2)\n",
        "plot_regression(dstest_x, dstest_y)"
      ],
      "metadata": {
        "colab": {
          "base_uri": "https://localhost:8080/",
          "height": 279
        },
        "id": "cRodVB_slSl3",
        "outputId": "6bd0a6b3-2503-43a0-d7d2-77ac5f18c054"
      },
      "execution_count": 56,
      "outputs": [
        {
          "output_type": "display_data",
          "data": {
            "text/plain": [
              "<Figure size 720x288 with 2 Axes>"
            ],
            "image/png": "[encoded data removed]"
          },
          "metadata": {
            "needs_background": "light"
          }
        }
      ]
    },
    {
      "cell_type": "code",
      "source": [
        "model.evaluate(x=dstest_x, y=dstest_y)"
      ],
      "metadata": {
        "colab": {
          "base_uri": "https://localhost:8080/"
        },
        "id": "AgOqaWdfDJQE",
        "outputId": "2ec7c5a3-b967-40d8-b360-89e3b7209c9b"
      },
      "execution_count": 57,
      "outputs": [
        {
          "output_type": "stream",
          "name": "stdout",
          "text": [
            "4/4 [==============================] - 0s 4ms/step - loss: 3.3032 - mae: 3.7639\n"
          ]
        },
        {
          "output_type": "execute_result",
          "data": {
            "text/plain": [
              "[3.3031811714172363, 3.763911485671997]"
            ]
          },
          "metadata": {},
          "execution_count": 57
        }
      ]
    },
    {
      "cell_type": "markdown",
      "source": [
        "When we see like that, it seems our model it's pretty good. Afterall we got an error of 3.7, but this error is in thousands, because our y labels are measured in thousands. \n",
        "\n",
        "So, our model performs pretty bad."
      ],
      "metadata": {
        "id": "wgEGf8ujmWpK"
      }
    },
    {
      "cell_type": "code",
      "source": [
        "dstrain_x.nunique()"
      ],
      "metadata": {
        "id": "n3USI43olzq0",
        "colab": {
          "base_uri": "https://localhost:8080/"
        },
        "outputId": "b3e248e2-2284-4511-b741-debf309edd70"
      },
      "execution_count": 58,
      "outputs": [
        {
          "output_type": "execute_result",
          "data": {
            "text/plain": [
              "CRIM       404\n",
              "ZN          25\n",
              "INDUS       71\n",
              "CHAS         2\n",
              "NOX         79\n",
              "RM         374\n",
              "AGE        296\n",
              "DIS        338\n",
              "RAD          9\n",
              "TAX         62\n",
              "PTRATIO     46\n",
              "B          286\n",
              "LSTAT      371\n",
              "dtype: int64"
            ]
          },
          "metadata": {},
          "execution_count": 58
        }
      ]
    },
    {
      "cell_type": "markdown",
      "source": [
        "Looking that way, we could say that only CHAS and RAD are categorical values. "
      ],
      "metadata": {
        "id": "k3H1HCJp1GvZ"
      }
    },
    {
      "cell_type": "code",
      "source": [
        "def to_one_hot(data, col):\n",
        "  data = pd.concat([data,pd.get_dummies(data[col], prefix=col)], axis=1)\n",
        "  data = data.drop(col, axis=1)\n",
        "  return data\n",
        "\n",
        "dstrain_x = to_one_hot(to_one_hot(dstrain_x, \"CHAS\"), \"RAD\")\n",
        "dstest_x = to_one_hot(to_one_hot(dstest_x, \"CHAS\"), \"RAD\")\n",
        "dstrain_x"
      ],
      "metadata": {
        "colab": {
          "base_uri": "https://localhost:8080/",
          "height": 488
        },
        "id": "OWEJO1yv1oyb",
        "outputId": "257af69f-c89a-440b-b0d6-f521e36bd041"
      },
      "execution_count": 59,
      "outputs": [
        {
          "output_type": "execute_result",
          "data": {
            "text/plain": [
              "        CRIM    ZN  INDUS     NOX     RM    AGE     DIS    TAX  PTRATIO  \\\n",
              "0    1.23247   0.0   8.14  0.5380  6.142   91.7  3.9769  307.0     21.0   \n",
              "1    0.02177  82.5   2.03  0.4150  7.610   15.7  6.2700  348.0     14.7   \n",
              "2    4.89822   0.0  18.10  0.6310  4.970  100.0  1.3325  666.0     20.2   \n",
              "3    0.03961   0.0   5.19  0.5150  6.037   34.5  5.9853  224.0     20.2   \n",
              "4    3.69311   0.0  18.10  0.7130  6.376   88.4  2.5671  666.0     20.2   \n",
              "..       ...   ...    ...     ...    ...    ...     ...    ...      ...   \n",
              "399  0.21977   0.0   6.91  0.4480  5.602   62.0  6.0877  233.0     17.9   \n",
              "400  0.16211  20.0   6.96  0.4640  6.240   16.3  4.4290  223.0     18.6   \n",
              "401  0.03466  35.0   6.06  0.4379  6.031   23.3  6.6407  304.0     16.9   \n",
              "402  2.14918   0.0  19.58  0.8710  5.709   98.5  1.6232  403.0     14.7   \n",
              "403  0.01439  60.0   2.93  0.4010  6.604   18.8  6.2196  265.0     15.6   \n",
              "\n",
              "          B  ...  CHAS_1.0  RAD_1.0  RAD_2.0  RAD_3.0  RAD_4.0  RAD_5.0  \\\n",
              "0    396.90  ...         0        0        0        0        1        0   \n",
              "1    395.38  ...         0        0        1        0        0        0   \n",
              "2    375.52  ...         0        0        0        0        0        0   \n",
              "3    396.90  ...         0        0        0        0        0        1   \n",
              "4    391.43  ...         0        0        0        0        0        0   \n",
              "..      ...  ...       ...      ...      ...      ...      ...      ...   \n",
              "399  396.90  ...         0        0        0        1        0        0   \n",
              "400  396.90  ...         0        0        0        1        0        0   \n",
              "401  362.25  ...         0        1        0        0        0        0   \n",
              "402  261.95  ...         0        0        0        0        0        1   \n",
              "403  376.70  ...         0        1        0        0        0        0   \n",
              "\n",
              "     RAD_6.0  RAD_7.0  RAD_8.0  RAD_24.0  \n",
              "0          0        0        0         0  \n",
              "1          0        0        0         0  \n",
              "2          0        0        0         1  \n",
              "3          0        0        0         0  \n",
              "4          0        0        0         1  \n",
              "..       ...      ...      ...       ...  \n",
              "399        0        0        0         0  \n",
              "400        0        0        0         0  \n",
              "401        0        0        0         0  \n",
              "402        0        0        0         0  \n",
              "403        0        0        0         0  \n",
              "\n",
              "[404 rows x 22 columns]"
            ],
            "text/html": [
              "\n",
              "  <div id=\"df-e8dd36c2-72b7-41cc-8e91-9d01c2a1395b\">\n",
              "    <div class=\"colab-df-container\">\n",
              "      <div>\n",
              "<style scoped>\n",
              "    .dataframe tbody tr th:only-of-type {\n",
              "        vertical-align: middle;\n",
              "    }\n",
              "\n",
              "    .dataframe tbody tr th {\n",
              "        vertical-align: top;\n",
              "    }\n",
              "\n",
              "    .dataframe thead th {\n",
              "        text-align: right;\n",
              "    }\n",
              "</style>\n",
              "<table border=\"1\" class=\"dataframe\">\n",
              "  <thead>\n",
              "    <tr style=\"text-align: right;\">\n",
              "      <th></th>\n",
              "      <th>CRIM</th>\n",
              "      <th>ZN</th>\n",
              "      <th>INDUS</th>\n",
              "      <th>NOX</th>\n",
              "      <th>RM</th>\n",
              "      <th>AGE</th>\n",
              "      <th>DIS</th>\n",
              "      <th>TAX</th>\n",
              "      <th>PTRATIO</th>\n",
              "      <th>B</th>\n",
              "      <th>...</th>\n",
              "      <th>CHAS_1.0</th>\n",
              "      <th>RAD_1.0</th>\n",
              "      <th>RAD_2.0</th>\n",
              "      <th>RAD_3.0</th>\n",
              "      <th>RAD_4.0</th>\n",
              "      <th>RAD_5.0</th>\n",
              "      <th>RAD_6.0</th>\n",
              "      <th>RAD_7.0</th>\n",
              "      <th>RAD_8.0</th>\n",
              "      <th>RAD_24.0</th>\n",
              "    </tr>\n",
              "  </thead>\n",
              "  <tbody>\n",
              "    <tr>\n",
              "      <th>0</th>\n",
              "      <td>1.23247</td>\n",
              "      <td>0.0</td>\n",
              "      <td>8.14</td>\n",
              "      <td>0.5380</td>\n",
              "      <td>6.142</td>\n",
              "      <td>91.7</td>\n",
              "      <td>3.9769</td>\n",
              "      <td>307.0</td>\n",
              "      <td>21.0</td>\n",
              "      <td>396.90</td>\n",
              "      <td>...</td>\n",
              "      <td>0</td>\n",
              "      <td>0</td>\n",
              "      <td>0</td>\n",
              "      <td>0</td>\n",
              "      <td>1</td>\n",
              "      <td>0</td>\n",
              "      <td>0</td>\n",
              "      <td>0</td>\n",
              "      <td>0</td>\n",
              "      <td>0</td>\n",
              "    </tr>\n",
              "    <tr>\n",
              "      <th>1</th>\n",
              "      <td>0.02177</td>\n",
              "      <td>82.5</td>\n",
              "      <td>2.03</td>\n",
              "      <td>0.4150</td>\n",
              "      <td>7.610</td>\n",
              "      <td>15.7</td>\n",
              "      <td>6.2700</td>\n",
              "      <td>348.0</td>\n",
              "      <td>14.7</td>\n",
              "      <td>395.38</td>\n",
              "      <td>...</td>\n",
              "      <td>0</td>\n",
              "      <td>0</td>\n",
              "      <td>1</td>\n",
              "      <td>0</td>\n",
              "      <td>0</td>\n",
              "      <td>0</td>\n",
              "      <td>0</td>\n",
              "      <td>0</td>\n",
              "      <td>0</td>\n",
              "      <td>0</td>\n",
              "    </tr>\n",
              "    <tr>\n",
              "      <th>2</th>\n",
              "      <td>4.89822</td>\n",
              "      <td>0.0</td>\n",
              "      <td>18.10</td>\n",
              "      <td>0.6310</td>\n",
              "      <td>4.970</td>\n",
              "      <td>100.0</td>\n",
              "      <td>1.3325</td>\n",
              "      <td>666.0</td>\n",
              "      <td>20.2</td>\n",
              "      <td>375.52</td>\n",
              "      <td>...</td>\n",
              "      <td>0</td>\n",
              "      <td>0</td>\n",
              "      <td>0</td>\n",
              "      <td>0</td>\n",
              "      <td>0</td>\n",
              "      <td>0</td>\n",
              "      <td>0</td>\n",
              "      <td>0</td>\n",
              "      <td>0</td>\n",
              "      <td>1</td>\n",
              "    </tr>\n",
              "    <tr>\n",
              "      <th>3</th>\n",
              "      <td>0.03961</td>\n",
              "      <td>0.0</td>\n",
              "      <td>5.19</td>\n",
              "      <td>0.5150</td>\n",
              "      <td>6.037</td>\n",
              "      <td>34.5</td>\n",
              "      <td>5.9853</td>\n",
              "      <td>224.0</td>\n",
              "      <td>20.2</td>\n",
              "      <td>396.90</td>\n",
              "      <td>...</td>\n",
              "      <td>0</td>\n",
              "      <td>0</td>\n",
              "      <td>0</td>\n",
              "      <td>0</td>\n",
              "      <td>0</td>\n",
              "      <td>1</td>\n",
              "      <td>0</td>\n",
              "      <td>0</td>\n",
              "      <td>0</td>\n",
              "      <td>0</td>\n",
              "    </tr>\n",
              "    <tr>\n",
              "      <th>4</th>\n",
              "      <td>3.69311</td>\n",
              "      <td>0.0</td>\n",
              "      <td>18.10</td>\n",
              "      <td>0.7130</td>\n",
              "      <td>6.376</td>\n",
              "      <td>88.4</td>\n",
              "      <td>2.5671</td>\n",
              "      <td>666.0</td>\n",
              "      <td>20.2</td>\n",
              "      <td>391.43</td>\n",
              "      <td>...</td>\n",
              "      <td>0</td>\n",
              "      <td>0</td>\n",
              "      <td>0</td>\n",
              "      <td>0</td>\n",
              "      <td>0</td>\n",
              "      <td>0</td>\n",
              "      <td>0</td>\n",
              "      <td>0</td>\n",
              "      <td>0</td>\n",
              "      <td>1</td>\n",
              "    </tr>\n",
              "    <tr>\n",
              "      <th>...</th>\n",
              "      <td>...</td>\n",
              "      <td>...</td>\n",
              "      <td>...</td>\n",
              "      <td>...</td>\n",
              "      <td>...</td>\n",
              "      <td>...</td>\n",
              "      <td>...</td>\n",
              "      <td>...</td>\n",
              "      <td>...</td>\n",
              "      <td>...</td>\n",
              "      <td>...</td>\n",
              "      <td>...</td>\n",
              "      <td>...</td>\n",
              "      <td>...</td>\n",
              "      <td>...</td>\n",
              "      <td>...</td>\n",
              "      <td>...</td>\n",
              "      <td>...</td>\n",
              "      <td>...</td>\n",
              "      <td>...</td>\n",
              "      <td>...</td>\n",
              "    </tr>\n",
              "    <tr>\n",
              "      <th>399</th>\n",
              "      <td>0.21977</td>\n",
              "      <td>0.0</td>\n",
              "      <td>6.91</td>\n",
              "      <td>0.4480</td>\n",
              "      <td>5.602</td>\n",
              "      <td>62.0</td>\n",
              "      <td>6.0877</td>\n",
              "      <td>233.0</td>\n",
              "      <td>17.9</td>\n",
              "      <td>396.90</td>\n",
              "      <td>...</td>\n",
              "      <td>0</td>\n",
              "      <td>0</td>\n",
              "      <td>0</td>\n",
              "      <td>1</td>\n",
              "      <td>0</td>\n",
              "      <td>0</td>\n",
              "      <td>0</td>\n",
              "      <td>0</td>\n",
              "      <td>0</td>\n",
              "      <td>0</td>\n",
              "    </tr>\n",
              "    <tr>\n",
              "      <th>400</th>\n",
              "      <td>0.16211</td>\n",
              "      <td>20.0</td>\n",
              "      <td>6.96</td>\n",
              "      <td>0.4640</td>\n",
              "      <td>6.240</td>\n",
              "      <td>16.3</td>\n",
              "      <td>4.4290</td>\n",
              "      <td>223.0</td>\n",
              "      <td>18.6</td>\n",
              "      <td>396.90</td>\n",
              "      <td>...</td>\n",
              "      <td>0</td>\n",
              "      <td>0</td>\n",
              "      <td>0</td>\n",
              "      <td>1</td>\n",
              "      <td>0</td>\n",
              "      <td>0</td>\n",
              "      <td>0</td>\n",
              "      <td>0</td>\n",
              "      <td>0</td>\n",
              "      <td>0</td>\n",
              "    </tr>\n",
              "    <tr>\n",
              "      <th>401</th>\n",
              "      <td>0.03466</td>\n",
              "      <td>35.0</td>\n",
              "      <td>6.06</td>\n",
              "      <td>0.4379</td>\n",
              "      <td>6.031</td>\n",
              "      <td>23.3</td>\n",
              "      <td>6.6407</td>\n",
              "      <td>304.0</td>\n",
              "      <td>16.9</td>\n",
              "      <td>362.25</td>\n",
              "      <td>...</td>\n",
              "      <td>0</td>\n",
              "      <td>1</td>\n",
              "      <td>0</td>\n",
              "      <td>0</td>\n",
              "      <td>0</td>\n",
              "      <td>0</td>\n",
              "      <td>0</td>\n",
              "      <td>0</td>\n",
              "      <td>0</td>\n",
              "      <td>0</td>\n",
              "    </tr>\n",
              "    <tr>\n",
              "      <th>402</th>\n",
              "      <td>2.14918</td>\n",
              "      <td>0.0</td>\n",
              "      <td>19.58</td>\n",
              "      <td>0.8710</td>\n",
              "      <td>5.709</td>\n",
              "      <td>98.5</td>\n",
              "      <td>1.6232</td>\n",
              "      <td>403.0</td>\n",
              "      <td>14.7</td>\n",
              "      <td>261.95</td>\n",
              "      <td>...</td>\n",
              "      <td>0</td>\n",
              "      <td>0</td>\n",
              "      <td>0</td>\n",
              "      <td>0</td>\n",
              "      <td>0</td>\n",
              "      <td>1</td>\n",
              "      <td>0</td>\n",
              "      <td>0</td>\n",
              "      <td>0</td>\n",
              "      <td>0</td>\n",
              "    </tr>\n",
              "    <tr>\n",
              "      <th>403</th>\n",
              "      <td>0.01439</td>\n",
              "      <td>60.0</td>\n",
              "      <td>2.93</td>\n",
              "      <td>0.4010</td>\n",
              "      <td>6.604</td>\n",
              "      <td>18.8</td>\n",
              "      <td>6.2196</td>\n",
              "      <td>265.0</td>\n",
              "      <td>15.6</td>\n",
              "      <td>376.70</td>\n",
              "      <td>...</td>\n",
              "      <td>0</td>\n",
              "      <td>1</td>\n",
              "      <td>0</td>\n",
              "      <td>0</td>\n",
              "      <td>0</td>\n",
              "      <td>0</td>\n",
              "      <td>0</td>\n",
              "      <td>0</td>\n",
              "      <td>0</td>\n",
              "      <td>0</td>\n",
              "    </tr>\n",
              "  </tbody>\n",
              "</table>\n",
              "<p>404 rows × 22 columns</p>\n",
              "</div>\n",
              "      <button class=\"colab-df-convert\" onclick=\"convertToInteractive('df-e8dd36c2-72b7-41cc-8e91-9d01c2a1395b')\"\n",
              "              title=\"Convert this dataframe to an interactive table.\"\n",
              "              style=\"display:none;\">\n",
              "        \n",
              "  <svg xmlns=\"http://www.w3.org/2000/svg\" height=\"24px\"viewBox=\"0 0 24 24\"\n",
              "       width=\"24px\">\n",
              "    <path d=\"M0 0h24v24H0V0z\" fill=\"none\"/>\n",
              "    <path d=\"M18.56 5.44l.94 2.06.94-2.06 2.06-.94-2.06-.94-.94-2.06-.94 2.06-2.06.94zm-11 1L8.5 8.5l.94-2.06 2.06-.94-2.06-.94L8.5 2.5l-.94 2.06-2.06.94zm10 10l.94 2.06.94-2.06 2.06-.94-2.06-.94-.94-2.06-.94 2.06-2.06.94z\"/><path d=\"M17.41 7.96l-1.37-1.37c-.4-.4-.92-.59-1.43-.59-.52 0-1.04.2-1.43.59L10.3 9.45l-7.72 7.72c-.78.78-.78 2.05 0 2.83L4 21.41c.39.39.9.59 1.41.59.51 0 1.02-.2 1.41-.59l7.78-7.78 2.81-2.81c.8-.78.8-2.07 0-2.86zM5.41 20L4 18.59l7.72-7.72 1.47 1.35L5.41 20z\"/>\n",
              "  </svg>\n",
              "      </button>\n",
              "      \n",
              "  <style>\n",
              "    .colab-df-container {\n",
              "      display:flex;\n",
              "      flex-wrap:wrap;\n",
              "      gap: 12px;\n",
              "    }\n",
              "\n",
              "    .colab-df-convert {\n",
              "      background-color: #E8F0FE;\n",
              "      border: none;\n",
              "      border-radius: 50%;\n",
              "      cursor: pointer;\n",
              "      display: none;\n",
              "      fill: #1967D2;\n",
              "      height: 32px;\n",
              "      padding: 0 0 0 0;\n",
              "      width: 32px;\n",
              "    }\n",
              "\n",
              "    .colab-df-convert:hover {\n",
              "      background-color: #E2EBFA;\n",
              "      box-shadow: 0px 1px 2px rgba(60, 64, 67, 0.3), 0px 1px 3px 1px rgba(60, 64, 67, 0.15);\n",
              "      fill: #174EA6;\n",
              "    }\n",
              "\n",
              "    [theme=dark] .colab-df-convert {\n",
              "      background-color: #3B4455;\n",
              "      fill: #D2E3FC;\n",
              "    }\n",
              "\n",
              "    [theme=dark] .colab-df-convert:hover {\n",
              "      background-color: #434B5C;\n",
              "      box-shadow: 0px 1px 3px 1px rgba(0, 0, 0, 0.15);\n",
              "      filter: drop-shadow(0px 1px 2px rgba(0, 0, 0, 0.3));\n",
              "      fill: #FFFFFF;\n",
              "    }\n",
              "  </style>\n",
              "\n",
              "      <script>\n",
              "        const buttonEl =\n",
              "          document.querySelector('#df-e8dd36c2-72b7-41cc-8e91-9d01c2a1395b button.colab-df-convert');\n",
              "        buttonEl.style.display =\n",
              "          google.colab.kernel.accessAllowed ? 'block' : 'none';\n",
              "\n",
              "        async function convertToInteractive(key) {\n",
              "          const element = document.querySelector('#df-e8dd36c2-72b7-41cc-8e91-9d01c2a1395b');\n",
              "          const dataTable =\n",
              "            await google.colab.kernel.invokeFunction('convertToInteractive',\n",
              "                                                     [key], {});\n",
              "          if (!dataTable) return;\n",
              "\n",
              "          const docLinkHtml = 'Like what you see? Visit the ' +\n",
              "            '<a target=\"_blank\" href=https://colab.research.google.com/notebooks/data_table.ipynb>data table notebook</a>'\n",
              "            + ' to learn more about interactive tables.';\n",
              "          element.innerHTML = '';\n",
              "          dataTable['output_type'] = 'display_data';\n",
              "          await google.colab.output.renderOutput(dataTable, element);\n",
              "          const docLink = document.createElement('div');\n",
              "          docLink.innerHTML = docLinkHtml;\n",
              "          element.appendChild(docLink);\n",
              "        }\n",
              "      </script>\n",
              "    </div>\n",
              "  </div>\n",
              "  "
            ]
          },
          "metadata": {},
          "execution_count": 59
        }
      ]
    },
    {
      "cell_type": "markdown",
      "source": [
        "Now that we got some categorical variable, we can train our model again."
      ],
      "metadata": {
        "id": "jKdGZ6p31wpB"
      }
    },
    {
      "cell_type": "code",
      "source": [
        "model = tf.keras.models.Sequential([\n",
        "    tf.keras.layers.Dense(100, activation=\"relu\", input_shape=[22,]),\n",
        "    tf.keras.layers.Dense(1)\n",
        "])\n",
        "\n",
        "model.compile(optimizer=\"adam\", loss=tf.keras.losses.Huber(), metrics=[\"mae\"])\n",
        "\n",
        "log = model.fit(x=dstrain_x.to_numpy(), y=dstrain_y, epochs=100, verbose=False)\n",
        "print(log.history[\"mae\"][-1])\n",
        "\n",
        "plt.figure(figsize=(10,4))\n",
        "plt.subplot(1,2,1)\n",
        "plot_regression(dstrain_x, dstrain_y)\n",
        "plt.subplot(1,2,2)\n",
        "plot_regression(dstest_x, dstest_y)"
      ],
      "metadata": {
        "colab": {
          "base_uri": "https://localhost:8080/",
          "height": 296
        },
        "id": "uDGo6tFN3avP",
        "outputId": "9656b03b-8b54-4d41-bc12-c4b39ed13602"
      },
      "execution_count": 60,
      "outputs": [
        {
          "output_type": "stream",
          "name": "stdout",
          "text": [
            "3.121236562728882\n"
          ]
        },
        {
          "output_type": "display_data",
          "data": {
            "text/plain": [
              "<Figure size 720x288 with 2 Axes>"
            ],
            "image/png": "[encoded data removed]"
          },
          "metadata": {
            "needs_background": "light"
          }
        }
      ]
    },
    {
      "cell_type": "code",
      "source": [
        "model.evaluate(x=dstest_x, y=dstest_y)"
      ],
      "metadata": {
        "colab": {
          "base_uri": "https://localhost:8080/"
        },
        "id": "5Jven_C2DH3b",
        "outputId": "7b8dc253-4a8e-40e4-8e39-38d853bd2a26"
      },
      "execution_count": 61,
      "outputs": [
        {
          "output_type": "stream",
          "name": "stdout",
          "text": [
            "4/4 [==============================] - 0s 3ms/step - loss: 2.9639 - mae: 3.4134\n"
          ]
        },
        {
          "output_type": "execute_result",
          "data": {
            "text/plain": [
              "[2.963909149169922, 3.413393497467041]"
            ]
          },
          "metadata": {},
          "execution_count": 61
        }
      ]
    },
    {
      "cell_type": "markdown",
      "source": [
        "We didnt get any better. So we'll now try to normalize our data"
      ],
      "metadata": {
        "id": "xkpMty6F3f3J"
      }
    },
    {
      "cell_type": "code",
      "source": [
        "labels = [\"CRIM\", \"ZN\", \"INDUS\", \"CHAS\", \"NOX\", \"RM\", \"AGE\", \"DIS\", \"RAD\", \"TAX\", \"PTRATIO\", \"B\", \"LSTAT\" ]\n",
        "labels.remove(\"CHAS\")\n",
        "labels.remove(\"RAD\")\n",
        "labels"
      ],
      "metadata": {
        "colab": {
          "base_uri": "https://localhost:8080/"
        },
        "id": "DRyP1oV53xUn",
        "outputId": "45933a0c-1dc6-4487-b148-83e12e60e379"
      },
      "execution_count": 62,
      "outputs": [
        {
          "output_type": "execute_result",
          "data": {
            "text/plain": [
              "['CRIM',\n",
              " 'ZN',\n",
              " 'INDUS',\n",
              " 'NOX',\n",
              " 'RM',\n",
              " 'AGE',\n",
              " 'DIS',\n",
              " 'TAX',\n",
              " 'PTRATIO',\n",
              " 'B',\n",
              " 'LSTAT']"
            ]
          },
          "metadata": {},
          "execution_count": 62
        }
      ]
    },
    {
      "cell_type": "code",
      "source": [
        "from sklearn.preprocessing import MinMaxScaler,StandardScaler\n",
        "\n",
        "scaler = StandardScaler()\n",
        "scaler.fit(pd.concat([dstrain_x[labels],dstest_x[labels]]))"
      ],
      "metadata": {
        "colab": {
          "base_uri": "https://localhost:8080/"
        },
        "id": "ARGBQcmk31fh",
        "outputId": "3d70ad95-f695-4aae-fba8-8c8b29803b8e"
      },
      "execution_count": 63,
      "outputs": [
        {
          "output_type": "execute_result",
          "data": {
            "text/plain": [
              "StandardScaler()"
            ]
          },
          "metadata": {},
          "execution_count": 63
        }
      ]
    },
    {
      "cell_type": "code",
      "source": [
        "dstrain_x[labels] = scaler.transform(dstrain_x[labels])\n",
        "dstest_x[labels] = scaler.transform(dstest_x[labels])\n",
        "dstrain_x"
      ],
      "metadata": {
        "colab": {
          "base_uri": "https://localhost:8080/",
          "height": 488
        },
        "id": "Rj562LNd4c9c",
        "outputId": "d824872c-e1e8-481c-dd51-d456b4878abc"
      },
      "execution_count": 64,
      "outputs": [
        {
          "output_type": "execute_result",
          "data": {
            "text/plain": [
              "         CRIM        ZN     INDUS       NOX        RM       AGE       DIS  \\\n",
              "0   -0.277091 -0.487722 -0.437258 -0.144217 -0.203205  0.822342  0.086449   \n",
              "1   -0.417984  3.053142 -1.328764 -1.206732  1.888194 -1.880262  1.176518   \n",
              "2    0.149504 -0.487722  1.015999  0.659147 -1.872905  1.117494 -1.170617   \n",
              "3   -0.415908 -0.487722 -0.867691 -0.342899 -0.352794 -1.211723  1.041181   \n",
              "4    0.009262 -0.487722  1.015999  1.367490  0.130165  0.704992 -0.583726   \n",
              "..        ...       ...       ...       ...       ...       ...       ...   \n",
              "399 -0.394942 -0.487722 -0.616727 -0.921667 -0.972521 -0.233807  1.089859   \n",
              "400 -0.401652  0.370669 -0.609431 -0.783454 -0.063589 -1.858925  0.301364   \n",
              "401 -0.416484  1.014463 -0.740749 -1.008914 -0.361342 -1.610001  1.352738   \n",
              "402 -0.170410 -0.487722  1.231945  2.732346 -0.820083  1.064154 -1.032427   \n",
              "403 -0.418843  2.087452 -1.197446 -1.327669  0.454987 -1.770024  1.152560   \n",
              "\n",
              "          TAX   PTRATIO         B  ...  CHAS_1.0  RAD_1.0  RAD_2.0  RAD_3.0  \\\n",
              "0   -0.601276  1.176466  0.441052  ...         0        0        0        0   \n",
              "1   -0.357765 -1.736418  0.424386  ...         0        0        1        0   \n",
              "2    1.530926  0.806576  0.206634  ...         0        0        0        0   \n",
              "3   -1.094237  0.806576  0.441052  ...         0        0        0        0   \n",
              "4    1.530926  0.806576  0.381077  ...         0        0        0        0   \n",
              "..        ...       ...       ...  ...       ...      ...      ...      ...   \n",
              "399 -1.040783 -0.256858  0.441052  ...         0        0        0        1   \n",
              "400 -1.100176  0.066796  0.441052  ...         0        0        0        1   \n",
              "401 -0.619094 -0.719220  0.061137  ...         0        1        0        0   \n",
              "402 -0.031105 -1.736418 -1.038588  ...         0        0        0        0   \n",
              "403 -0.850726 -1.320292  0.219572  ...         0        1        0        0   \n",
              "\n",
              "     RAD_4.0  RAD_5.0  RAD_6.0  RAD_7.0  RAD_8.0  RAD_24.0  \n",
              "0          1        0        0        0        0         0  \n",
              "1          0        0        0        0        0         0  \n",
              "2          0        0        0        0        0         1  \n",
              "3          0        1        0        0        0         0  \n",
              "4          0        0        0        0        0         1  \n",
              "..       ...      ...      ...      ...      ...       ...  \n",
              "399        0        0        0        0        0         0  \n",
              "400        0        0        0        0        0         0  \n",
              "401        0        0        0        0        0         0  \n",
              "402        0        1        0        0        0         0  \n",
              "403        0        0        0        0        0         0  \n",
              "\n",
              "[404 rows x 22 columns]"
            ],
            "text/html": [
              "\n",
              "  <div id=\"df-f8f98ecc-2d86-48db-8bd2-1bb718c1f423\">\n",
              "    <div class=\"colab-df-container\">\n",
              "      <div>\n",
              "<style scoped>\n",
              "    .dataframe tbody tr th:only-of-type {\n",
              "        vertical-align: middle;\n",
              "    }\n",
              "\n",
              "    .dataframe tbody tr th {\n",
              "        vertical-align: top;\n",
              "    }\n",
              "\n",
              "    .dataframe thead th {\n",
              "        text-align: right;\n",
              "    }\n",
              "</style>\n",
              "<table border=\"1\" class=\"dataframe\">\n",
              "  <thead>\n",
              "    <tr style=\"text-align: right;\">\n",
              "      <th></th>\n",
              "      <th>CRIM</th>\n",
              "      <th>ZN</th>\n",
              "      <th>INDUS</th>\n",
              "      <th>NOX</th>\n",
              "      <th>RM</th>\n",
              "      <th>AGE</th>\n",
              "      <th>DIS</th>\n",
              "      <th>TAX</th>\n",
              "      <th>PTRATIO</th>\n",
              "      <th>B</th>\n",
              "      <th>...</th>\n",
              "      <th>CHAS_1.0</th>\n",
              "      <th>RAD_1.0</th>\n",
              "      <th>RAD_2.0</th>\n",
              "      <th>RAD_3.0</th>\n",
              "      <th>RAD_4.0</th>\n",
              "      <th>RAD_5.0</th>\n",
              "      <th>RAD_6.0</th>\n",
              "      <th>RAD_7.0</th>\n",
              "      <th>RAD_8.0</th>\n",
              "      <th>RAD_24.0</th>\n",
              "    </tr>\n",
              "  </thead>\n",
              "  <tbody>\n",
              "    <tr>\n",
              "      <th>0</th>\n",
              "      <td>-0.277091</td>\n",
              "      <td>-0.487722</td>\n",
              "      <td>-0.437258</td>\n",
              "      <td>-0.144217</td>\n",
              "      <td>-0.203205</td>\n",
              "      <td>0.822342</td>\n",
              "      <td>0.086449</td>\n",
              "      <td>-0.601276</td>\n",
              "      <td>1.176466</td>\n",
              "      <td>0.441052</td>\n",
              "      <td>...</td>\n",
              "      <td>0</td>\n",
              "      <td>0</td>\n",
              "      <td>0</td>\n",
              "      <td>0</td>\n",
              "      <td>1</td>\n",
              "      <td>0</td>\n",
              "      <td>0</td>\n",
              "      <td>0</td>\n",
              "      <td>0</td>\n",
              "      <td>0</td>\n",
              "    </tr>\n",
              "    <tr>\n",
              "      <th>1</th>\n",
              "      <td>-0.417984</td>\n",
              "      <td>3.053142</td>\n",
              "      <td>-1.328764</td>\n",
              "      <td>-1.206732</td>\n",
              "      <td>1.888194</td>\n",
              "      <td>-1.880262</td>\n",
              "      <td>1.176518</td>\n",
              "      <td>-0.357765</td>\n",
              "      <td>-1.736418</td>\n",
              "      <td>0.424386</td>\n",
              "      <td>...</td>\n",
              "      <td>0</td>\n",
              "      <td>0</td>\n",
              "      <td>1</td>\n",
              "      <td>0</td>\n",
              "      <td>0</td>\n",
              "      <td>0</td>\n",
              "      <td>0</td>\n",
              "      <td>0</td>\n",
              "      <td>0</td>\n",
              "      <td>0</td>\n",
              "    </tr>\n",
              "    <tr>\n",
              "      <th>2</th>\n",
              "      <td>0.149504</td>\n",
              "      <td>-0.487722</td>\n",
              "      <td>1.015999</td>\n",
              "      <td>0.659147</td>\n",
              "      <td>-1.872905</td>\n",
              "      <td>1.117494</td>\n",
              "      <td>-1.170617</td>\n",
              "      <td>1.530926</td>\n",
              "      <td>0.806576</td>\n",
              "      <td>0.206634</td>\n",
              "      <td>...</td>\n",
              "      <td>0</td>\n",
              "      <td>0</td>\n",
              "      <td>0</td>\n",
              "      <td>0</td>\n",
              "      <td>0</td>\n",
              "      <td>0</td>\n",
              "      <td>0</td>\n",
              "      <td>0</td>\n",
              "      <td>0</td>\n",
              "      <td>1</td>\n",
              "    </tr>\n",
              "    <tr>\n",
              "      <th>3</th>\n",
              "      <td>-0.415908</td>\n",
              "      <td>-0.487722</td>\n",
              "      <td>-0.867691</td>\n",
              "      <td>-0.342899</td>\n",
              "      <td>-0.352794</td>\n",
              "      <td>-1.211723</td>\n",
              "      <td>1.041181</td>\n",
              "      <td>-1.094237</td>\n",
              "      <td>0.806576</td>\n",
              "      <td>0.441052</td>\n",
              "      <td>...</td>\n",
              "      <td>0</td>\n",
              "      <td>0</td>\n",
              "      <td>0</td>\n",
              "      <td>0</td>\n",
              "      <td>0</td>\n",
              "      <td>1</td>\n",
              "      <td>0</td>\n",
              "      <td>0</td>\n",
              "      <td>0</td>\n",
              "      <td>0</td>\n",
              "    </tr>\n",
              "    <tr>\n",
              "      <th>4</th>\n",
              "      <td>0.009262</td>\n",
              "      <td>-0.487722</td>\n",
              "      <td>1.015999</td>\n",
              "      <td>1.367490</td>\n",
              "      <td>0.130165</td>\n",
              "      <td>0.704992</td>\n",
              "      <td>-0.583726</td>\n",
              "      <td>1.530926</td>\n",
              "      <td>0.806576</td>\n",
              "      <td>0.381077</td>\n",
              "      <td>...</td>\n",
              "      <td>0</td>\n",
              "      <td>0</td>\n",
              "      <td>0</td>\n",
              "      <td>0</td>\n",
              "      <td>0</td>\n",
              "      <td>0</td>\n",
              "      <td>0</td>\n",
              "      <td>0</td>\n",
              "      <td>0</td>\n",
              "      <td>1</td>\n",
              "    </tr>\n",
              "    <tr>\n",
              "      <th>...</th>\n",
              "      <td>...</td>\n",
              "      <td>...</td>\n",
              "      <td>...</td>\n",
              "      <td>...</td>\n",
              "      <td>...</td>\n",
              "      <td>...</td>\n",
              "      <td>...</td>\n",
              "      <td>...</td>\n",
              "      <td>...</td>\n",
              "      <td>...</td>\n",
              "      <td>...</td>\n",
              "      <td>...</td>\n",
              "      <td>...</td>\n",
              "      <td>...</td>\n",
              "      <td>...</td>\n",
              "      <td>...</td>\n",
              "      <td>...</td>\n",
              "      <td>...</td>\n",
              "      <td>...</td>\n",
              "      <td>...</td>\n",
              "      <td>...</td>\n",
              "    </tr>\n",
              "    <tr>\n",
              "      <th>399</th>\n",
              "      <td>-0.394942</td>\n",
              "      <td>-0.487722</td>\n",
              "      <td>-0.616727</td>\n",
              "      <td>-0.921667</td>\n",
              "      <td>-0.972521</td>\n",
              "      <td>-0.233807</td>\n",
              "      <td>1.089859</td>\n",
              "      <td>-1.040783</td>\n",
              "      <td>-0.256858</td>\n",
              "      <td>0.441052</td>\n",
              "      <td>...</td>\n",
              "      <td>0</td>\n",
              "      <td>0</td>\n",
              "      <td>0</td>\n",
              "      <td>1</td>\n",
              "      <td>0</td>\n",
              "      <td>0</td>\n",
              "      <td>0</td>\n",
              "      <td>0</td>\n",
              "      <td>0</td>\n",
              "      <td>0</td>\n",
              "    </tr>\n",
              "    <tr>\n",
              "      <th>400</th>\n",
              "      <td>-0.401652</td>\n",
              "      <td>0.370669</td>\n",
              "      <td>-0.609431</td>\n",
              "      <td>-0.783454</td>\n",
              "      <td>-0.063589</td>\n",
              "      <td>-1.858925</td>\n",
              "      <td>0.301364</td>\n",
              "      <td>-1.100176</td>\n",
              "      <td>0.066796</td>\n",
              "      <td>0.441052</td>\n",
              "      <td>...</td>\n",
              "      <td>0</td>\n",
              "      <td>0</td>\n",
              "      <td>0</td>\n",
              "      <td>1</td>\n",
              "      <td>0</td>\n",
              "      <td>0</td>\n",
              "      <td>0</td>\n",
              "      <td>0</td>\n",
              "      <td>0</td>\n",
              "      <td>0</td>\n",
              "    </tr>\n",
              "    <tr>\n",
              "      <th>401</th>\n",
              "      <td>-0.416484</td>\n",
              "      <td>1.014463</td>\n",
              "      <td>-0.740749</td>\n",
              "      <td>-1.008914</td>\n",
              "      <td>-0.361342</td>\n",
              "      <td>-1.610001</td>\n",
              "      <td>1.352738</td>\n",
              "      <td>-0.619094</td>\n",
              "      <td>-0.719220</td>\n",
              "      <td>0.061137</td>\n",
              "      <td>...</td>\n",
              "      <td>0</td>\n",
              "      <td>1</td>\n",
              "      <td>0</td>\n",
              "      <td>0</td>\n",
              "      <td>0</td>\n",
              "      <td>0</td>\n",
              "      <td>0</td>\n",
              "      <td>0</td>\n",
              "      <td>0</td>\n",
              "      <td>0</td>\n",
              "    </tr>\n",
              "    <tr>\n",
              "      <th>402</th>\n",
              "      <td>-0.170410</td>\n",
              "      <td>-0.487722</td>\n",
              "      <td>1.231945</td>\n",
              "      <td>2.732346</td>\n",
              "      <td>-0.820083</td>\n",
              "      <td>1.064154</td>\n",
              "      <td>-1.032427</td>\n",
              "      <td>-0.031105</td>\n",
              "      <td>-1.736418</td>\n",
              "      <td>-1.038588</td>\n",
              "      <td>...</td>\n",
              "      <td>0</td>\n",
              "      <td>0</td>\n",
              "      <td>0</td>\n",
              "      <td>0</td>\n",
              "      <td>0</td>\n",
              "      <td>1</td>\n",
              "      <td>0</td>\n",
              "      <td>0</td>\n",
              "      <td>0</td>\n",
              "      <td>0</td>\n",
              "    </tr>\n",
              "    <tr>\n",
              "      <th>403</th>\n",
              "      <td>-0.418843</td>\n",
              "      <td>2.087452</td>\n",
              "      <td>-1.197446</td>\n",
              "      <td>-1.327669</td>\n",
              "      <td>0.454987</td>\n",
              "      <td>-1.770024</td>\n",
              "      <td>1.152560</td>\n",
              "      <td>-0.850726</td>\n",
              "      <td>-1.320292</td>\n",
              "      <td>0.219572</td>\n",
              "      <td>...</td>\n",
              "      <td>0</td>\n",
              "      <td>1</td>\n",
              "      <td>0</td>\n",
              "      <td>0</td>\n",
              "      <td>0</td>\n",
              "      <td>0</td>\n",
              "      <td>0</td>\n",
              "      <td>0</td>\n",
              "      <td>0</td>\n",
              "      <td>0</td>\n",
              "    </tr>\n",
              "  </tbody>\n",
              "</table>\n",
              "<p>404 rows × 22 columns</p>\n",
              "</div>\n",
              "      <button class=\"colab-df-convert\" onclick=\"convertToInteractive('df-f8f98ecc-2d86-48db-8bd2-1bb718c1f423')\"\n",
              "              title=\"Convert this dataframe to an interactive table.\"\n",
              "              style=\"display:none;\">\n",
              "        \n",
              "  <svg xmlns=\"http://www.w3.org/2000/svg\" height=\"24px\"viewBox=\"0 0 24 24\"\n",
              "       width=\"24px\">\n",
              "    <path d=\"M0 0h24v24H0V0z\" fill=\"none\"/>\n",
              "    <path d=\"M18.56 5.44l.94 2.06.94-2.06 2.06-.94-2.06-.94-.94-2.06-.94 2.06-2.06.94zm-11 1L8.5 8.5l.94-2.06 2.06-.94-2.06-.94L8.5 2.5l-.94 2.06-2.06.94zm10 10l.94 2.06.94-2.06 2.06-.94-2.06-.94-.94-2.06-.94 2.06-2.06.94z\"/><path d=\"M17.41 7.96l-1.37-1.37c-.4-.4-.92-.59-1.43-.59-.52 0-1.04.2-1.43.59L10.3 9.45l-7.72 7.72c-.78.78-.78 2.05 0 2.83L4 21.41c.39.39.9.59 1.41.59.51 0 1.02-.2 1.41-.59l7.78-7.78 2.81-2.81c.8-.78.8-2.07 0-2.86zM5.41 20L4 18.59l7.72-7.72 1.47 1.35L5.41 20z\"/>\n",
              "  </svg>\n",
              "      </button>\n",
              "      \n",
              "  <style>\n",
              "    .colab-df-container {\n",
              "      display:flex;\n",
              "      flex-wrap:wrap;\n",
              "      gap: 12px;\n",
              "    }\n",
              "\n",
              "    .colab-df-convert {\n",
              "      background-color: #E8F0FE;\n",
              "      border: none;\n",
              "      border-radius: 50%;\n",
              "      cursor: pointer;\n",
              "      display: none;\n",
              "      fill: #1967D2;\n",
              "      height: 32px;\n",
              "      padding: 0 0 0 0;\n",
              "      width: 32px;\n",
              "    }\n",
              "\n",
              "    .colab-df-convert:hover {\n",
              "      background-color: #E2EBFA;\n",
              "      box-shadow: 0px 1px 2px rgba(60, 64, 67, 0.3), 0px 1px 3px 1px rgba(60, 64, 67, 0.15);\n",
              "      fill: #174EA6;\n",
              "    }\n",
              "\n",
              "    [theme=dark] .colab-df-convert {\n",
              "      background-color: #3B4455;\n",
              "      fill: #D2E3FC;\n",
              "    }\n",
              "\n",
              "    [theme=dark] .colab-df-convert:hover {\n",
              "      background-color: #434B5C;\n",
              "      box-shadow: 0px 1px 3px 1px rgba(0, 0, 0, 0.15);\n",
              "      filter: drop-shadow(0px 1px 2px rgba(0, 0, 0, 0.3));\n",
              "      fill: #FFFFFF;\n",
              "    }\n",
              "  </style>\n",
              "\n",
              "      <script>\n",
              "        const buttonEl =\n",
              "          document.querySelector('#df-f8f98ecc-2d86-48db-8bd2-1bb718c1f423 button.colab-df-convert');\n",
              "        buttonEl.style.display =\n",
              "          google.colab.kernel.accessAllowed ? 'block' : 'none';\n",
              "\n",
              "        async function convertToInteractive(key) {\n",
              "          const element = document.querySelector('#df-f8f98ecc-2d86-48db-8bd2-1bb718c1f423');\n",
              "          const dataTable =\n",
              "            await google.colab.kernel.invokeFunction('convertToInteractive',\n",
              "                                                     [key], {});\n",
              "          if (!dataTable) return;\n",
              "\n",
              "          const docLinkHtml = 'Like what you see? Visit the ' +\n",
              "            '<a target=\"_blank\" href=https://colab.research.google.com/notebooks/data_table.ipynb>data table notebook</a>'\n",
              "            + ' to learn more about interactive tables.';\n",
              "          element.innerHTML = '';\n",
              "          dataTable['output_type'] = 'display_data';\n",
              "          await google.colab.output.renderOutput(dataTable, element);\n",
              "          const docLink = document.createElement('div');\n",
              "          docLink.innerHTML = docLinkHtml;\n",
              "          element.appendChild(docLink);\n",
              "        }\n",
              "      </script>\n",
              "    </div>\n",
              "  </div>\n",
              "  "
            ]
          },
          "metadata": {},
          "execution_count": 64
        }
      ]
    },
    {
      "cell_type": "markdown",
      "source": [
        "Now that the data are normalized, we can again try our model. "
      ],
      "metadata": {
        "id": "kwO_hvSU4qJU"
      }
    },
    {
      "cell_type": "code",
      "source": [
        "model = tf.keras.models.Sequential([\n",
        "    tf.keras.layers.Dense(100, activation=\"relu\", input_shape=[22,]),\n",
        "    tf.keras.layers.Dense(1)\n",
        "])\n",
        "\n",
        "model.compile(optimizer=\"adam\", loss=tf.keras.losses.Huber(), metrics=[\"mae\"])\n",
        "\n",
        "log = model.fit(x=dstrain_x.to_numpy(), y=dstrain_y, epochs=100, verbose=False)\n",
        "print(log.history[\"mae\"][-1])\n",
        "\n",
        "plt.figure(figsize=(10,4))\n",
        "plt.subplot(1,2,1)\n",
        "plot_regression(dstrain_x, dstrain_y)\n",
        "plt.subplot(1,2,2)\n",
        "plot_regression(dstest_x, dstest_y)"
      ],
      "metadata": {
        "colab": {
          "base_uri": "https://localhost:8080/",
          "height": 296
        },
        "id": "AR9FZhzo4_29",
        "outputId": "8acc9cef-468b-47e4-d7be-9f22ecfc4cc7"
      },
      "execution_count": 65,
      "outputs": [
        {
          "output_type": "stream",
          "name": "stdout",
          "text": [
            "1.7800869941711426\n"
          ]
        },
        {
          "output_type": "display_data",
          "data": {
            "text/plain": [
              "<Figure size 720x288 with 2 Axes>"
            ],
            "image/png": "[encoded data removed]"
          },
          "metadata": {
            "needs_background": "light"
          }
        }
      ]
    },
    {
      "cell_type": "code",
      "source": [
        "model.evaluate(x=dstest_x, y=dstest_y)"
      ],
      "metadata": {
        "colab": {
          "base_uri": "https://localhost:8080/"
        },
        "id": "rKSY283iDDbD",
        "outputId": "d0ee7cc2-980c-4697-e811-93400bfb831a"
      },
      "execution_count": 66,
      "outputs": [
        {
          "output_type": "stream",
          "name": "stdout",
          "text": [
            "4/4 [==============================] - 0s 3ms/step - loss: 2.0003 - mae: 2.4469\n"
          ]
        },
        {
          "output_type": "execute_result",
          "data": {
            "text/plain": [
              "[2.0003204345703125, 2.44691801071167]"
            ]
          },
          "metadata": {},
          "execution_count": 66
        }
      ]
    },
    {
      "cell_type": "code",
      "source": [
        "labels = [\"CRIM\", \"ZN\", \"INDUS\", \"CHAS\", \"NOX\", \"RM\", \"AGE\", \"DIS\", \"RAD\", \"TAX\", \"PTRATIO\", \"B\", \"LSTAT\" ]\n",
        "one_hotted = [\"RAD\", \"CHAS\"]\n",
        "best_combination = [[], 999]\n",
        "combinations = [labels] + [labels[i: j] for i in range(len(labels)) \n",
        "          for j in range(i + 1, len(labels) + 1) if len(labels[i: j]) > 4]\n",
        "for combination in combinations:\n",
        "\n",
        "  for label in one_hotted:\n",
        "    if label in combination:\n",
        "      combination.remove(label)\n",
        "      aux = list(dstrain_x.columns)\n",
        "      aux = [ele for ele in aux if label in ele]\n",
        "      combination += aux\n",
        "\n",
        "  model = tf.keras.models.Sequential([\n",
        "      tf.keras.layers.Dense(100, activation=\"relu\", input_shape=[len(combination),]),\n",
        "      tf.keras.layers.Dense(1)\n",
        "  ])\n",
        "\n",
        "  model.compile(optimizer=\"adam\", loss=tf.keras.losses.Huber(), metrics=[\"mae\"])\n",
        "\n",
        "  log = model.fit(x=dstrain_x[combination].to_numpy(), y=dstrain_y, epochs=100, verbose=False)\n",
        "  print(len(combination), combination, log.history[\"mae\"][-1])\n",
        "  if(log.history[\"mae\"][-1] < best_combination[1]):\n",
        "    best_combination[0] = combination\n",
        "    best_combination[1] = log.history[\"mae\"][-1]"
      ],
      "metadata": {
        "colab": {
          "base_uri": "https://localhost:8080/"
        },
        "id": "zbp7YJDk5BU1",
        "outputId": "43415cf6-644b-4fa6-d14a-7448218912b1"
      },
      "execution_count": 67,
      "outputs": [
        {
          "output_type": "stream",
          "name": "stdout",
          "text": [
            "22 ['CRIM', 'ZN', 'INDUS', 'NOX', 'RM', 'AGE', 'DIS', 'TAX', 'PTRATIO', 'B', 'LSTAT', 'RAD_1.0', 'RAD_2.0', 'RAD_3.0', 'RAD_4.0', 'RAD_5.0', 'RAD_6.0', 'RAD_7.0', 'RAD_8.0', 'RAD_24.0', 'CHAS_0.0', 'CHAS_1.0'] 1.8017746210098267\n",
            "6 ['CRIM', 'ZN', 'INDUS', 'NOX', 'CHAS_0.0', 'CHAS_1.0'] 4.768134593963623\n",
            "7 ['CRIM', 'ZN', 'INDUS', 'NOX', 'RM', 'CHAS_0.0', 'CHAS_1.0'] 2.9299583435058594\n",
            "8 ['CRIM', 'ZN', 'INDUS', 'NOX', 'RM', 'AGE', 'CHAS_0.0', 'CHAS_1.0'] 2.7465083599090576\n",
            "9 ['CRIM', 'ZN', 'INDUS', 'NOX', 'RM', 'AGE', 'DIS', 'CHAS_0.0', 'CHAS_1.0'] 2.6431691646575928\n",
            "18 ['CRIM', 'ZN', 'INDUS', 'NOX', 'RM', 'AGE', 'DIS', 'RAD_1.0', 'RAD_2.0', 'RAD_3.0', 'RAD_4.0', 'RAD_5.0', 'RAD_6.0', 'RAD_7.0', 'RAD_8.0', 'RAD_24.0', 'CHAS_0.0', 'CHAS_1.0'] 2.41338849067688\n",
            "19 ['CRIM', 'ZN', 'INDUS', 'NOX', 'RM', 'AGE', 'DIS', 'TAX', 'RAD_1.0', 'RAD_2.0', 'RAD_3.0', 'RAD_4.0', 'RAD_5.0', 'RAD_6.0', 'RAD_7.0', 'RAD_8.0', 'RAD_24.0', 'CHAS_0.0', 'CHAS_1.0'] 2.311131715774536\n",
            "20 ['CRIM', 'ZN', 'INDUS', 'NOX', 'RM', 'AGE', 'DIS', 'TAX', 'PTRATIO', 'RAD_1.0', 'RAD_2.0', 'RAD_3.0', 'RAD_4.0', 'RAD_5.0', 'RAD_6.0', 'RAD_7.0', 'RAD_8.0', 'RAD_24.0', 'CHAS_0.0', 'CHAS_1.0'] 2.189711570739746\n",
            "21 ['CRIM', 'ZN', 'INDUS', 'NOX', 'RM', 'AGE', 'DIS', 'TAX', 'PTRATIO', 'B', 'RAD_1.0', 'RAD_2.0', 'RAD_3.0', 'RAD_4.0', 'RAD_5.0', 'RAD_6.0', 'RAD_7.0', 'RAD_8.0', 'RAD_24.0', 'CHAS_0.0', 'CHAS_1.0'] 2.0653786659240723\n",
            "22 ['CRIM', 'ZN', 'INDUS', 'NOX', 'RM', 'AGE', 'DIS', 'TAX', 'PTRATIO', 'B', 'LSTAT', 'RAD_1.0', 'RAD_2.0', 'RAD_3.0', 'RAD_4.0', 'RAD_5.0', 'RAD_6.0', 'RAD_7.0', 'RAD_8.0', 'RAD_24.0', 'CHAS_0.0', 'CHAS_1.0'] 1.7516515254974365\n",
            "6 ['ZN', 'INDUS', 'NOX', 'RM', 'CHAS_0.0', 'CHAS_1.0'] 3.3306455612182617\n",
            "7 ['ZN', 'INDUS', 'NOX', 'RM', 'AGE', 'CHAS_0.0', 'CHAS_1.0'] 3.0960686206817627\n",
            "8 ['ZN', 'INDUS', 'NOX', 'RM', 'AGE', 'DIS', 'CHAS_0.0', 'CHAS_1.0'] 2.902000904083252\n",
            "17 ['ZN', 'INDUS', 'NOX', 'RM', 'AGE', 'DIS', 'RAD_1.0', 'RAD_2.0', 'RAD_3.0', 'RAD_4.0', 'RAD_5.0', 'RAD_6.0', 'RAD_7.0', 'RAD_8.0', 'RAD_24.0', 'CHAS_0.0', 'CHAS_1.0'] 2.6000142097473145\n",
            "18 ['ZN', 'INDUS', 'NOX', 'RM', 'AGE', 'DIS', 'TAX', 'RAD_1.0', 'RAD_2.0', 'RAD_3.0', 'RAD_4.0', 'RAD_5.0', 'RAD_6.0', 'RAD_7.0', 'RAD_8.0', 'RAD_24.0', 'CHAS_0.0', 'CHAS_1.0'] 2.5300967693328857\n",
            "19 ['ZN', 'INDUS', 'NOX', 'RM', 'AGE', 'DIS', 'TAX', 'PTRATIO', 'RAD_1.0', 'RAD_2.0', 'RAD_3.0', 'RAD_4.0', 'RAD_5.0', 'RAD_6.0', 'RAD_7.0', 'RAD_8.0', 'RAD_24.0', 'CHAS_0.0', 'CHAS_1.0'] 2.4339351654052734\n",
            "20 ['ZN', 'INDUS', 'NOX', 'RM', 'AGE', 'DIS', 'TAX', 'PTRATIO', 'B', 'RAD_1.0', 'RAD_2.0', 'RAD_3.0', 'RAD_4.0', 'RAD_5.0', 'RAD_6.0', 'RAD_7.0', 'RAD_8.0', 'RAD_24.0', 'CHAS_0.0', 'CHAS_1.0'] 2.3393211364746094\n",
            "21 ['ZN', 'INDUS', 'NOX', 'RM', 'AGE', 'DIS', 'TAX', 'PTRATIO', 'B', 'LSTAT', 'RAD_1.0', 'RAD_2.0', 'RAD_3.0', 'RAD_4.0', 'RAD_5.0', 'RAD_6.0', 'RAD_7.0', 'RAD_8.0', 'RAD_24.0', 'CHAS_0.0', 'CHAS_1.0'] 1.8879387378692627\n",
            "6 ['INDUS', 'NOX', 'RM', 'AGE', 'CHAS_0.0', 'CHAS_1.0'] 3.1172518730163574\n",
            "7 ['INDUS', 'NOX', 'RM', 'AGE', 'DIS', 'CHAS_0.0', 'CHAS_1.0'] 2.9373867511749268\n",
            "16 ['INDUS', 'NOX', 'RM', 'AGE', 'DIS', 'RAD_1.0', 'RAD_2.0', 'RAD_3.0', 'RAD_4.0', 'RAD_5.0', 'RAD_6.0', 'RAD_7.0', 'RAD_8.0', 'RAD_24.0', 'CHAS_0.0', 'CHAS_1.0'] 2.6124496459960938\n",
            "17 ['INDUS', 'NOX', 'RM', 'AGE', 'DIS', 'TAX', 'RAD_1.0', 'RAD_2.0', 'RAD_3.0', 'RAD_4.0', 'RAD_5.0', 'RAD_6.0', 'RAD_7.0', 'RAD_8.0', 'RAD_24.0', 'CHAS_0.0', 'CHAS_1.0'] 2.5913946628570557\n",
            "18 ['INDUS', 'NOX', 'RM', 'AGE', 'DIS', 'TAX', 'PTRATIO', 'RAD_1.0', 'RAD_2.0', 'RAD_3.0', 'RAD_4.0', 'RAD_5.0', 'RAD_6.0', 'RAD_7.0', 'RAD_8.0', 'RAD_24.0', 'CHAS_0.0', 'CHAS_1.0'] 2.3458192348480225\n",
            "19 ['INDUS', 'NOX', 'RM', 'AGE', 'DIS', 'TAX', 'PTRATIO', 'B', 'RAD_1.0', 'RAD_2.0', 'RAD_3.0', 'RAD_4.0', 'RAD_5.0', 'RAD_6.0', 'RAD_7.0', 'RAD_8.0', 'RAD_24.0', 'CHAS_0.0', 'CHAS_1.0'] 2.279177188873291\n",
            "20 ['INDUS', 'NOX', 'RM', 'AGE', 'DIS', 'TAX', 'PTRATIO', 'B', 'LSTAT', 'RAD_1.0', 'RAD_2.0', 'RAD_3.0', 'RAD_4.0', 'RAD_5.0', 'RAD_6.0', 'RAD_7.0', 'RAD_8.0', 'RAD_24.0', 'CHAS_0.0', 'CHAS_1.0'] 1.9244072437286377\n",
            "6 ['NOX', 'RM', 'AGE', 'DIS', 'CHAS_0.0', 'CHAS_1.0'] 3.071359157562256\n",
            "15 ['NOX', 'RM', 'AGE', 'DIS', 'RAD_1.0', 'RAD_2.0', 'RAD_3.0', 'RAD_4.0', 'RAD_5.0', 'RAD_6.0', 'RAD_7.0', 'RAD_8.0', 'RAD_24.0', 'CHAS_0.0', 'CHAS_1.0'] 2.5690033435821533\n",
            "16 ['NOX', 'RM', 'AGE', 'DIS', 'TAX', 'RAD_1.0', 'RAD_2.0', 'RAD_3.0', 'RAD_4.0', 'RAD_5.0', 'RAD_6.0', 'RAD_7.0', 'RAD_8.0', 'RAD_24.0', 'CHAS_0.0', 'CHAS_1.0'] 2.6893365383148193\n",
            "17 ['NOX', 'RM', 'AGE', 'DIS', 'TAX', 'PTRATIO', 'RAD_1.0', 'RAD_2.0', 'RAD_3.0', 'RAD_4.0', 'RAD_5.0', 'RAD_6.0', 'RAD_7.0', 'RAD_8.0', 'RAD_24.0', 'CHAS_0.0', 'CHAS_1.0'] 2.4369895458221436\n",
            "18 ['NOX', 'RM', 'AGE', 'DIS', 'TAX', 'PTRATIO', 'B', 'RAD_1.0', 'RAD_2.0', 'RAD_3.0', 'RAD_4.0', 'RAD_5.0', 'RAD_6.0', 'RAD_7.0', 'RAD_8.0', 'RAD_24.0', 'CHAS_0.0', 'CHAS_1.0'] 2.3795547485351562\n",
            "19 ['NOX', 'RM', 'AGE', 'DIS', 'TAX', 'PTRATIO', 'B', 'LSTAT', 'RAD_1.0', 'RAD_2.0', 'RAD_3.0', 'RAD_4.0', 'RAD_5.0', 'RAD_6.0', 'RAD_7.0', 'RAD_8.0', 'RAD_24.0', 'CHAS_0.0', 'CHAS_1.0'] 1.8744423389434814\n",
            "13 ['NOX', 'RM', 'AGE', 'DIS', 'RAD_1.0', 'RAD_2.0', 'RAD_3.0', 'RAD_4.0', 'RAD_5.0', 'RAD_6.0', 'RAD_7.0', 'RAD_8.0', 'RAD_24.0'] 2.6884589195251465\n",
            "14 ['NOX', 'RM', 'AGE', 'DIS', 'TAX', 'RAD_1.0', 'RAD_2.0', 'RAD_3.0', 'RAD_4.0', 'RAD_5.0', 'RAD_6.0', 'RAD_7.0', 'RAD_8.0', 'RAD_24.0'] 2.7783496379852295\n",
            "15 ['NOX', 'RM', 'AGE', 'DIS', 'TAX', 'PTRATIO', 'RAD_1.0', 'RAD_2.0', 'RAD_3.0', 'RAD_4.0', 'RAD_5.0', 'RAD_6.0', 'RAD_7.0', 'RAD_8.0', 'RAD_24.0'] 2.5994906425476074\n",
            "16 ['NOX', 'RM', 'AGE', 'DIS', 'TAX', 'PTRATIO', 'B', 'RAD_1.0', 'RAD_2.0', 'RAD_3.0', 'RAD_4.0', 'RAD_5.0', 'RAD_6.0', 'RAD_7.0', 'RAD_8.0', 'RAD_24.0'] 2.4268593788146973\n",
            "17 ['NOX', 'RM', 'AGE', 'DIS', 'TAX', 'PTRATIO', 'B', 'LSTAT', 'RAD_1.0', 'RAD_2.0', 'RAD_3.0', 'RAD_4.0', 'RAD_5.0', 'RAD_6.0', 'RAD_7.0', 'RAD_8.0', 'RAD_24.0'] 1.953818917274475\n",
            "13 ['RM', 'AGE', 'DIS', 'TAX', 'RAD_1.0', 'RAD_2.0', 'RAD_3.0', 'RAD_4.0', 'RAD_5.0', 'RAD_6.0', 'RAD_7.0', 'RAD_8.0', 'RAD_24.0'] 2.7032558917999268\n",
            "14 ['RM', 'AGE', 'DIS', 'TAX', 'PTRATIO', 'RAD_1.0', 'RAD_2.0', 'RAD_3.0', 'RAD_4.0', 'RAD_5.0', 'RAD_6.0', 'RAD_7.0', 'RAD_8.0', 'RAD_24.0'] 2.569880723953247\n",
            "15 ['RM', 'AGE', 'DIS', 'TAX', 'PTRATIO', 'B', 'RAD_1.0', 'RAD_2.0', 'RAD_3.0', 'RAD_4.0', 'RAD_5.0', 'RAD_6.0', 'RAD_7.0', 'RAD_8.0', 'RAD_24.0'] 2.443976640701294\n",
            "16 ['RM', 'AGE', 'DIS', 'TAX', 'PTRATIO', 'B', 'LSTAT', 'RAD_1.0', 'RAD_2.0', 'RAD_3.0', 'RAD_4.0', 'RAD_5.0', 'RAD_6.0', 'RAD_7.0', 'RAD_8.0', 'RAD_24.0'] 1.9814916849136353\n",
            "13 ['AGE', 'DIS', 'TAX', 'PTRATIO', 'RAD_1.0', 'RAD_2.0', 'RAD_3.0', 'RAD_4.0', 'RAD_5.0', 'RAD_6.0', 'RAD_7.0', 'RAD_8.0', 'RAD_24.0'] 4.34060001373291\n",
            "14 ['AGE', 'DIS', 'TAX', 'PTRATIO', 'B', 'RAD_1.0', 'RAD_2.0', 'RAD_3.0', 'RAD_4.0', 'RAD_5.0', 'RAD_6.0', 'RAD_7.0', 'RAD_8.0', 'RAD_24.0'] 4.203845024108887\n",
            "15 ['AGE', 'DIS', 'TAX', 'PTRATIO', 'B', 'LSTAT', 'RAD_1.0', 'RAD_2.0', 'RAD_3.0', 'RAD_4.0', 'RAD_5.0', 'RAD_6.0', 'RAD_7.0', 'RAD_8.0', 'RAD_24.0'] 2.8393709659576416\n",
            "13 ['DIS', 'TAX', 'PTRATIO', 'B', 'RAD_1.0', 'RAD_2.0', 'RAD_3.0', 'RAD_4.0', 'RAD_5.0', 'RAD_6.0', 'RAD_7.0', 'RAD_8.0', 'RAD_24.0'] 4.4445905685424805\n",
            "14 ['DIS', 'TAX', 'PTRATIO', 'B', 'LSTAT', 'RAD_1.0', 'RAD_2.0', 'RAD_3.0', 'RAD_4.0', 'RAD_5.0', 'RAD_6.0', 'RAD_7.0', 'RAD_8.0', 'RAD_24.0'] 2.91931414604187\n",
            "13 ['TAX', 'PTRATIO', 'B', 'LSTAT', 'RAD_1.0', 'RAD_2.0', 'RAD_3.0', 'RAD_4.0', 'RAD_5.0', 'RAD_6.0', 'RAD_7.0', 'RAD_8.0', 'RAD_24.0'] 3.059544563293457\n"
          ]
        }
      ]
    },
    {
      "cell_type": "code",
      "source": [
        "best_combination[0]"
      ],
      "metadata": {
        "colab": {
          "base_uri": "https://localhost:8080/"
        },
        "id": "CSM2hrZS5ylN",
        "outputId": "d8f86d3b-7064-48c7-8c8d-57aea8da8d83"
      },
      "execution_count": 68,
      "outputs": [
        {
          "output_type": "execute_result",
          "data": {
            "text/plain": [
              "['CRIM',\n",
              " 'ZN',\n",
              " 'INDUS',\n",
              " 'NOX',\n",
              " 'RM',\n",
              " 'AGE',\n",
              " 'DIS',\n",
              " 'TAX',\n",
              " 'PTRATIO',\n",
              " 'B',\n",
              " 'LSTAT',\n",
              " 'RAD_1.0',\n",
              " 'RAD_2.0',\n",
              " 'RAD_3.0',\n",
              " 'RAD_4.0',\n",
              " 'RAD_5.0',\n",
              " 'RAD_6.0',\n",
              " 'RAD_7.0',\n",
              " 'RAD_8.0',\n",
              " 'RAD_24.0',\n",
              " 'CHAS_0.0',\n",
              " 'CHAS_1.0']"
            ]
          },
          "metadata": {},
          "execution_count": 68
        }
      ]
    },
    {
      "cell_type": "code",
      "source": [
        "model = tf.keras.models.Sequential([\n",
        "    tf.keras.layers.Dense(100, activation=\"relu\", input_shape=[len(best_combination[0]),]),\n",
        "    tf.keras.layers.Dense(1)\n",
        "])\n",
        "\n",
        "model.compile(optimizer=\"adam\", loss=tf.keras.losses.Huber(), metrics=[\"mae\"])\n",
        "\n",
        "log = model.fit(x=dstrain_x[best_combination[0]].to_numpy(), y=dstrain_y, epochs=100, verbose=False)\n",
        "print(log.history[\"mae\"][-1])\n",
        "\n",
        "plt.figure(figsize=(10,4))\n",
        "plt.subplot(1,2,1)\n",
        "plot_regression(dstrain_x[best_combination[0]], dstrain_y)\n",
        "plt.subplot(1,2,2)\n",
        "plot_regression(dstest_x[best_combination[0]], dstest_y)"
      ],
      "metadata": {
        "colab": {
          "base_uri": "https://localhost:8080/",
          "height": 296
        },
        "id": "KByY1Muv6HPF",
        "outputId": "1e0e54bd-0e20-43db-fc1e-f49eafc9dc37"
      },
      "execution_count": 69,
      "outputs": [
        {
          "output_type": "stream",
          "name": "stdout",
          "text": [
            "1.7429617643356323\n"
          ]
        },
        {
          "output_type": "display_data",
          "data": {
            "text/plain": [
              "<Figure size 720x288 with 2 Axes>"
            ],
            "image/png": "[encoded data removed]"
          },
          "metadata": {
            "needs_background": "light"
          }
        }
      ]
    },
    {
      "cell_type": "code",
      "source": [
        "model.evaluate(x=dstest_x[best_combination[0]], y=dstest_y)"
      ],
      "metadata": {
        "colab": {
          "base_uri": "https://localhost:8080/"
        },
        "id": "_vFF9voIC-8m",
        "outputId": "2e6d25c4-07a2-4943-a693-1d61a67d2725"
      },
      "execution_count": 70,
      "outputs": [
        {
          "output_type": "stream",
          "name": "stdout",
          "text": [
            "4/4 [==============================] - 0s 3ms/step - loss: 1.9768 - mae: 2.4202\n"
          ]
        },
        {
          "output_type": "execute_result",
          "data": {
            "text/plain": [
              "[1.9767765998840332, 2.4202218055725098]"
            ]
          },
          "metadata": {},
          "execution_count": 70
        }
      ]
    },
    {
      "cell_type": "markdown",
      "source": [
        "Now that we have our features prepared, let's tweek our model"
      ],
      "metadata": {
        "id": "Vcn6zyl764e3"
      }
    },
    {
      "cell_type": "code",
      "source": [
        "def plot_training():\n",
        "  plt.plot(range(len(log.history[\"mae\"])),log.history[\"mae\"])\n",
        "  plt.ylabel(\"MAE\")\n",
        "  plt.xlabel(\"Epochs\")\n",
        "plot_training()"
      ],
      "metadata": {
        "colab": {
          "base_uri": "https://localhost:8080/",
          "height": 279
        },
        "id": "xrShuHzTAbZh",
        "outputId": "7af901e5-da59-4b3d-ac83-2bd0f76f50b9"
      },
      "execution_count": 71,
      "outputs": [
        {
          "output_type": "display_data",
          "data": {
            "text/plain": [
              "<Figure size 432x288 with 1 Axes>"
            ],
            "image/png": "[encoded data removed]"
          },
          "metadata": {
            "needs_background": "light"
          }
        }
      ]
    },
    {
      "cell_type": "code",
      "source": [
        "model = tf.keras.models.Sequential([\n",
        "    tf.keras.layers.Dense(100, activation=\"relu\", input_shape=[len(best_combination[0]),]),\n",
        "    tf.keras.layers.Dense(100, activation=\"relu\"),\n",
        "    tf.keras.layers.Dense(1)\n",
        "])\n",
        "\n",
        "model.compile(optimizer=\"adam\", loss=tf.keras.losses.Huber(), metrics=[\"mae\"])\n",
        "\n",
        "log = model.fit(x=dstrain_x[best_combination[0]].to_numpy(), y=dstrain_y, epochs=300, verbose=False)\n",
        "print(log.history[\"mae\"][-1])\n",
        "\n",
        "plt.figure(figsize=(10,4))\n",
        "plt.subplot(1,2,1)\n",
        "plot_regression(dstrain_x[best_combination[0]], dstrain_y)\n",
        "plt.subplot(1,2,2)\n",
        "plot_regression(dstest_x[best_combination[0]], dstest_y)"
      ],
      "metadata": {
        "colab": {
          "base_uri": "https://localhost:8080/",
          "height": 296
        },
        "id": "zVYOthreApgy",
        "outputId": "5369334c-a9ff-421d-bfcd-397f019b59b9"
      },
      "execution_count": 72,
      "outputs": [
        {
          "output_type": "stream",
          "name": "stdout",
          "text": [
            "0.6895718574523926\n"
          ]
        },
        {
          "output_type": "display_data",
          "data": {
            "text/plain": [
              "<Figure size 720x288 with 2 Axes>"
            ],
            "image/png": "[encoded data removed]"
          },
          "metadata": {
            "needs_background": "light"
          }
        }
      ]
    },
    {
      "cell_type": "code",
      "source": [
        "model.evaluate(x=dstest_x[best_combination[0]], y=dstest_y)"
      ],
      "metadata": {
        "colab": {
          "base_uri": "https://localhost:8080/"
        },
        "id": "4fr9Q8f-BFWP",
        "outputId": "445a75a5-e5d6-4242-82ae-47ea663542d3"
      },
      "execution_count": 73,
      "outputs": [
        {
          "output_type": "stream",
          "name": "stdout",
          "text": [
            "4/4 [==============================] - 0s 5ms/step - loss: 1.8925 - mae: 2.3312\n"
          ]
        },
        {
          "output_type": "execute_result",
          "data": {
            "text/plain": [
              "[1.8924531936645508, 2.3312268257141113]"
            ]
          },
          "metadata": {},
          "execution_count": 73
        }
      ]
    },
    {
      "cell_type": "markdown",
      "source": [
        "Now our model is overfitting..."
      ],
      "metadata": {
        "id": "pYCa0JyFBtZo"
      }
    },
    {
      "cell_type": "code",
      "source": [
        "model = tf.keras.models.Sequential([\n",
        "    tf.keras.layers.Dense(100, activation=\"relu\", input_shape=[len(best_combination[0]),]),\n",
        "    tf.keras.layers.Dense(100, activation=\"relu\"),\n",
        "    tf.keras.layers.Dropout(.5),\n",
        "    tf.keras.layers.Dense(1)\n",
        "])\n",
        "\n",
        "model.compile(optimizer=\"adam\", loss=tf.keras.losses.Huber(), metrics=[\"mae\"])\n",
        "\n",
        "log = model.fit(x=dstrain_x[best_combination[0]].to_numpy(), y=dstrain_y, epochs=300, verbose=False) # Need to train more because of the dropouts. \n",
        "print(log.history[\"mae\"][-1])\n",
        "\n",
        "plt.figure(figsize=(10,4))\n",
        "plt.subplot(1,2,1)\n",
        "plot_regression(dstrain_x[best_combination[0]], dstrain_y)\n",
        "plt.subplot(1,2,2)\n",
        "plot_regression(dstest_x[best_combination[0]], dstest_y)"
      ],
      "metadata": {
        "colab": {
          "base_uri": "https://localhost:8080/",
          "height": 296
        },
        "id": "wYpA1D5FBzfI",
        "outputId": "5ed5c8fb-7096-40de-ef62-53d9364f5347"
      },
      "execution_count": 74,
      "outputs": [
        {
          "output_type": "stream",
          "name": "stdout",
          "text": [
            "2.693345069885254\n"
          ]
        },
        {
          "output_type": "display_data",
          "data": {
            "text/plain": [
              "<Figure size 720x288 with 2 Axes>"
            ],
            "image/png": "[encoded data removed]"
          },
          "metadata": {
            "needs_background": "light"
          }
        }
      ]
    },
    {
      "cell_type": "code",
      "source": [
        "model.evaluate(x=dstest_x[best_combination[0]], y=dstest_y)"
      ],
      "metadata": {
        "colab": {
          "base_uri": "https://localhost:8080/"
        },
        "id": "zWUPGEDnCDl2",
        "outputId": "508280a7-efdf-4ce3-830c-b7a9d118ba26"
      },
      "execution_count": 75,
      "outputs": [
        {
          "output_type": "stream",
          "name": "stdout",
          "text": [
            "4/4 [==============================] - 0s 3ms/step - loss: 2.1309 - mae: 2.5930\n"
          ]
        },
        {
          "output_type": "execute_result",
          "data": {
            "text/plain": [
              "[2.130945920944214, 2.5930306911468506]"
            ]
          },
          "metadata": {},
          "execution_count": 75
        }
      ]
    },
    {
      "cell_type": "code",
      "source": [
        "model = tf.keras.models.Sequential([\n",
        "    tf.keras.layers.Dense(10, activation=\"relu\", input_shape=[len(best_combination[0]),]),\n",
        "    tf.keras.layers.Dense(10, activation=\"relu\"),\n",
        "    tf.keras.layers.Dropout(.5),\n",
        "    tf.keras.layers.Dense(10, activation=\"relu\"),\n",
        "    tf.keras.layers.Dense(10, activation=\"relu\"),\n",
        "    tf.keras.layers.Dense(1)\n",
        "])\n",
        "\n",
        "model.compile(optimizer=\"adam\", loss=tf.keras.losses.Huber(), metrics=[\"mae\"])\n",
        "\n",
        "log = model.fit(x=dstrain_x[best_combination[0]].to_numpy(), y=dstrain_y, epochs=300, verbose=False) # Need to train more because of the dropouts. \n",
        "print(log.history[\"mae\"][-1])\n",
        "\n",
        "plt.figure(figsize=(10,4))\n",
        "plt.subplot(1,2,1)\n",
        "plot_regression(dstrain_x[best_combination[0]], dstrain_y)\n",
        "plt.subplot(1,2,2)\n",
        "plot_regression(dstest_x[best_combination[0]], dstest_y)"
      ],
      "metadata": {
        "colab": {
          "base_uri": "https://localhost:8080/",
          "height": 296
        },
        "id": "4fUueF2TCTre",
        "outputId": "8b43a679-fd90-4aba-a7af-4d9da61a272a"
      },
      "execution_count": 76,
      "outputs": [
        {
          "output_type": "stream",
          "name": "stdout",
          "text": [
            "2.113968849182129\n"
          ]
        },
        {
          "output_type": "display_data",
          "data": {
            "text/plain": [
              "<Figure size 720x288 with 2 Axes>"
            ],
            "image/png": "[encoded data removed]"
          },
          "metadata": {
            "needs_background": "light"
          }
        }
      ]
    },
    {
      "cell_type": "code",
      "source": [
        "model.evaluate(x=dstest_x[best_combination[0]], y=dstest_y)"
      ],
      "metadata": {
        "colab": {
          "base_uri": "https://localhost:8080/"
        },
        "id": "F13iQNUAJJS-",
        "outputId": "be91a8ec-52a9-4961-cc8c-edfeaa85ec93"
      },
      "execution_count": 77,
      "outputs": [
        {
          "output_type": "stream",
          "name": "stdout",
          "text": [
            "4/4 [==============================] - 0s 3ms/step - loss: 7.3375 - mae: 7.8312\n"
          ]
        },
        {
          "output_type": "execute_result",
          "data": {
            "text/plain": [
              "[7.337459087371826, 7.831215858459473]"
            ]
          },
          "metadata": {},
          "execution_count": 77
        }
      ]
    },
    {
      "cell_type": "code",
      "source": [
        "model = tf.keras.models.Sequential([\n",
        "    tf.keras.layers.Dense(256, activation=\"relu\", input_shape=[len(best_combination[0]),]),\n",
        "    tf.keras.layers.Dense(256, activation=\"relu\"),\n",
        "    tf.keras.layers.Dropout(.5),\n",
        "    tf.keras.layers.Dense(1)\n",
        "])\n",
        "\n",
        "model.compile(optimizer=\"adam\", loss=tf.keras.losses.Huber(), metrics=[\"mae\"])\n",
        "\n",
        "log = model.fit(x=dstrain_x[best_combination[0]].to_numpy(), y=dstrain_y, epochs=300, verbose=False) # Need to train more because of the dropouts. \n",
        "print(log.history[\"mae\"][-1])\n",
        "\n",
        "plt.figure(figsize=(10,4))\n",
        "plt.subplot(1,2,1)\n",
        "plot_regression(dstrain_x[best_combination[0]], dstrain_y)\n",
        "plt.subplot(1,2,2)\n",
        "plot_regression(dstest_x[best_combination[0]], dstest_y)\n",
        "model.evaluate(x=dstest_x[best_combination[0]], y=dstest_y)"
      ],
      "metadata": {
        "colab": {
          "base_uri": "https://localhost:8080/",
          "height": 331
        },
        "id": "Z1LdEUImJHWm",
        "outputId": "78ab64eb-1491-453b-b0e5-489b8cb6701a"
      },
      "execution_count": 78,
      "outputs": [
        {
          "output_type": "stream",
          "name": "stdout",
          "text": [
            "1.9065945148468018\n",
            "4/4 [==============================] - 0s 4ms/step - loss: 2.0298 - mae: 2.4931\n"
          ]
        },
        {
          "output_type": "execute_result",
          "data": {
            "text/plain": [
              "[2.029791831970215, 2.493096113204956]"
            ]
          },
          "metadata": {},
          "execution_count": 78
        },
        {
          "output_type": "display_data",
          "data": {
            "text/plain": [
              "<Figure size 720x288 with 2 Axes>"
            ],
            "image/png": "[encoded data removed]"
          },
          "metadata": {
            "needs_background": "light"
          }
        }
      ]
    },
    {
      "cell_type": "code",
      "source": [
        "model = tf.keras.models.Sequential([\n",
        "    tf.keras.layers.Dense(64, activation=\"relu\", input_shape=[len(best_combination[0]),]),\n",
        "    tf.keras.layers.Dense(1)\n",
        "])\n",
        "\n",
        "model.compile(optimizer=\"adam\", loss=tf.keras.losses.Huber(), metrics=[\"mae\"])\n",
        "\n",
        "log = model.fit(x=dstrain_x[best_combination[0]].to_numpy(), y=dstrain_y, epochs=300, verbose=False) # Need to train more because of the dropouts. \n",
        "print(log.history[\"mae\"][-1])\n",
        "\n",
        "plt.figure(figsize=(10,4))\n",
        "plt.subplot(1,2,1)\n",
        "plot_regression(dstrain_x[best_combination[0]], dstrain_y)\n",
        "plt.subplot(1,2,2)\n",
        "plot_regression(dstest_x[best_combination[0]], dstest_y)\n",
        "model.evaluate(x=dstest_x[best_combination[0]], y=dstest_y)"
      ],
      "metadata": {
        "colab": {
          "base_uri": "https://localhost:8080/",
          "height": 331
        },
        "id": "jcmv3hNNaygt",
        "outputId": "4e2ef89a-749d-47d5-c584-3776b5b6424a"
      },
      "execution_count": 79,
      "outputs": [
        {
          "output_type": "stream",
          "name": "stdout",
          "text": [
            "1.359147310256958\n",
            "4/4 [==============================] - 0s 3ms/step - loss: 1.9279 - mae: 2.3647\n"
          ]
        },
        {
          "output_type": "execute_result",
          "data": {
            "text/plain": [
              "[1.9278775453567505, 2.364686965942383]"
            ]
          },
          "metadata": {},
          "execution_count": 79
        },
        {
          "output_type": "display_data",
          "data": {
            "text/plain": [
              "<Figure size 720x288 with 2 Axes>"
            ],
            "image/png": "[encoded data removed]"
          },
          "metadata": {
            "needs_background": "light"
          }
        }
      ]
    },
    {
      "cell_type": "markdown",
      "source": [
        "### Conclusion\n",
        "\n",
        "The best MAE that we got was 2.33 in the validation set, when we overfit the model. In the aproach using dropouts the MAE was of 2.59. \n",
        "\n",
        "We tried to use more layers and then our model becomes very bad with an MAE of 7.8.\n",
        "\n",
        "We tried to increment the number of neurons using dropouts and two layers and our MAE become of 2.49.\n",
        "\n",
        "But our best solution was with the simpliest model, MAE 2.36\n",
        "\n",
        "It's important to notice that we reduce a MAE of 3.7 to 2.33 on the validation data.\n",
        "\n",
        "> **1º Place -** Single Layer Dense Model with 64 neurons. \n",
        "\n",
        "> **2º Place -** Double Layer Dense Model with 100 neurons each layer. \n",
        "\n",
        "> **3º Place -** Double Layer Dense Model with 256 neurons each layer + dropout."
      ],
      "metadata": {
        "id": "hEHZl3ShaLD8"
      }
    }
  ]
}