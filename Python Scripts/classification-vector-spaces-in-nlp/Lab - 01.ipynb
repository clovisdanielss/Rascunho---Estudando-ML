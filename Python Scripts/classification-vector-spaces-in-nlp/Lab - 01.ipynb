{
 "cells": [
  {
   "cell_type": "markdown",
   "metadata": {},
   "source": [
    "### Laboratório 1\n",
    "\n",
    "Essa primeira parte tem como objetivo fazer a criação do vocabulário.\n",
    "Para realizar esse processo, primeiro eu tenho que definir as <b>stop words</b> e as pontuações que podem estar contidas no corpo do texto.\n",
    "\n",
    "Após isso, devo ler uma lista de frases. Dessa lista eu devo gerar o meu vocabulário.\n",
    "O tipo de transformação que vou fazer nas frases é por frequência. Sendo assim eu vou separar as frases em dois conjuntos, e em seguida vou verificar a frequência de palavras para cada caso\n",
    "\n",
    "#### Formas de tratar frases como vetores\n",
    "\n",
    "Aqui vou apontar não todas as formas, mas as apresentadas pelo curso.\n",
    "\n",
    "A primeira forma, consiste em depois de realizar a construção do vacabulário, isto é, pegar todas as palavras únicas, remover pontuações e palavras pausa. Podemos então ter uma representação esparsa de uma determinada frase, onde essa representação é um vetor com o tamanho do vocabulário onde só haverá 1 nas palavras que fazem parte da frase.\n",
    "\n",
    "#### Como preprocessar o texto ?\n",
    "\n",
    "    1. Trabalhe com caixa baixa\n",
    "    2. Remova pontuações e urls, caracteres especiais\n",
    "    3. Remova palavras pausa, objetos diretos, indiretos, artigos, etc.\n",
    "    4. Podar as palavras para apresentarem somente o radical\n",
    "    5. Tokenizar as sentenças"
   ]
  },
  {
   "cell_type": "code",
   "execution_count": 1,
   "metadata": {},
   "outputs": [
    {
     "data": {
      "text/html": [
       "<div>\n",
       "<style scoped>\n",
       "    .dataframe tbody tr th:only-of-type {\n",
       "        vertical-align: middle;\n",
       "    }\n",
       "\n",
       "    .dataframe tbody tr th {\n",
       "        vertical-align: top;\n",
       "    }\n",
       "\n",
       "    .dataframe thead th {\n",
       "        text-align: right;\n",
       "    }\n",
       "</style>\n",
       "<table border=\"1\" class=\"dataframe\">\n",
       "  <thead>\n",
       "    <tr style=\"text-align: right;\">\n",
       "      <th></th>\n",
       "      <th>corpo</th>\n",
       "      <th>classes</th>\n",
       "    </tr>\n",
       "  </thead>\n",
       "  <tbody>\n",
       "    <tr>\n",
       "      <th>0</th>\n",
       "      <td>Eu gosto de comer biscoito</td>\n",
       "      <td>1</td>\n",
       "    </tr>\n",
       "    <tr>\n",
       "      <th>1</th>\n",
       "      <td>Eu odeio você</td>\n",
       "      <td>0</td>\n",
       "    </tr>\n",
       "    <tr>\n",
       "      <th>2</th>\n",
       "      <td>Eu te amo!!</td>\n",
       "      <td>1</td>\n",
       "    </tr>\n",
       "    <tr>\n",
       "      <th>3</th>\n",
       "      <td>Você é o amor da minha vida</td>\n",
       "      <td>1</td>\n",
       "    </tr>\n",
       "    <tr>\n",
       "      <th>4</th>\n",
       "      <td>Vá para a baixa da égua</td>\n",
       "      <td>0</td>\n",
       "    </tr>\n",
       "  </tbody>\n",
       "</table>\n",
       "</div>"
      ],
      "text/plain": [
       "                         corpo  classes\n",
       "0   Eu gosto de comer biscoito        1\n",
       "1                Eu odeio você        0\n",
       "2                  Eu te amo!!        1\n",
       "3  Você é o amor da minha vida        1\n",
       "4      Vá para a baixa da égua        0"
      ]
     },
     "execution_count": 1,
     "metadata": {},
     "output_type": "execute_result"
    }
   ],
   "source": [
    "import numpy as np\n",
    "import pandas as pd\n",
    "\n",
    "corpo = [\n",
    "    \"Eu gosto de comer biscoito\",\n",
    "    \"Eu odeio você\",\n",
    "    \"Eu te amo!!\",\n",
    "    \"Você é o amor da minha vida\",\n",
    "    \"Vá para a baixa da égua\",\n",
    "    \"Você é uma pessoa repugnante\",\n",
    "    \"Você é desagradável\",\n",
    "    \"Você é amável\"\n",
    "]\n",
    "\n",
    "classes = [\n",
    "    1,\n",
    "    0,\n",
    "    1,\n",
    "    1,\n",
    "    0,\n",
    "    0,\n",
    "    0,\n",
    "    1\n",
    "]\n",
    "\n",
    "dados = pd.DataFrame({\"corpo\":corpo, \"classes\":classes})\n",
    "dados.head()"
   ]
  },
  {
   "cell_type": "code",
   "execution_count": 2,
   "metadata": {},
   "outputs": [
    {
     "data": {
      "text/plain": [
       "{'Eu': 0,\n",
       " 'gosto': 1,\n",
       " 'comer': 2,\n",
       " 'biscoito': 3,\n",
       " 'odeio': 4,\n",
       " 'você': 5,\n",
       " 'te': 6,\n",
       " 'amo': 7,\n",
       " 'Você': 8,\n",
       " 'amor': 9,\n",
       " 'minha': 10,\n",
       " 'vida': 11,\n",
       " 'Vá': 12,\n",
       " 'para': 13,\n",
       " 'baixa': 14,\n",
       " 'égua': 15,\n",
       " 'pessoa': 16,\n",
       " 'repugnante': 17,\n",
       " 'desagradável': 18,\n",
       " 'amável': 19}"
      ]
     },
     "execution_count": 2,
     "metadata": {},
     "output_type": "execute_result"
    }
   ],
   "source": [
    "vocabulario = {}\n",
    "indices = {}\n",
    "pontuacao = ['!',\",\"]\n",
    "palavrasPausa = [\"a\", \"é\", \"uma\", \"de\", \"o\", \"da\"]\n",
    "def criarVocabulario(corpo):\n",
    "    v = {}\n",
    "    i = {}\n",
    "    index = 0\n",
    "    for frase in corpo:\n",
    "        for palavra in frase.split(\" \"):\n",
    "            for p in pontuacao:\n",
    "                palavra = palavra.replace(p,'')\n",
    "            if palavra not in list(v.keys()) and palavra not in palavrasPausa:\n",
    "                v[palavra] = index\n",
    "                i[index] = palavra\n",
    "                index+=1\n",
    "    return v,i    \n",
    "\n",
    "vocabulario, indices = criarVocabulario(corpo)\n",
    "vocabulario"
   ]
  },
  {
   "cell_type": "code",
   "execution_count": 3,
   "metadata": {},
   "outputs": [
    {
     "data": {
      "text/plain": [
       "(array([2., 1., 1., 1., 0., 0., 1., 1., 2., 1., 1., 1., 0., 0., 0., 0., 0.,\n",
       "        0., 0., 1.]),\n",
       " array([1., 0., 0., 0., 1., 1., 0., 0., 2., 0., 0., 0., 1., 1., 1., 1., 1.,\n",
       "        1., 1., 0.]))"
      ]
     },
     "execution_count": 3,
     "metadata": {},
     "output_type": "execute_result"
    }
   ],
   "source": [
    "def medirFrequencia(frase):\n",
    "    array = np.zeros(len(list(vocabulario.keys())))\n",
    "    for palavra in frase.split(\" \"):\n",
    "        for p in pontuacao:\n",
    "            palavra = palavra.replace(p,'')\n",
    "        if palavra not in palavrasPausa:\n",
    "            array[vocabulario[palavra]] += 1\n",
    "    return array\n",
    "\n",
    "\n",
    "def somarFrequencia(data):\n",
    "    arrayPositivo = np.zeros(len(list(vocabulario.keys())))\n",
    "    arrayNegativo = np.zeros(len(list(vocabulario.keys())))\n",
    "    for i in range(0,data.shape[0]):\n",
    "        if data.iloc[i,1] == 1:\n",
    "            arrayPositivo += medirFrequencia(data.iloc[i,0])\n",
    "        else:\n",
    "            arrayNegativo += medirFrequencia(data.iloc[i,0])\n",
    "    return arrayPositivo, arrayNegativo\n",
    "\n",
    "somarFrequencia(dados)"
   ]
  },
  {
   "cell_type": "code",
   "execution_count": 4,
   "metadata": {},
   "outputs": [],
   "source": [
    "import random\n",
    "\n",
    "def criarVetor(frase, arrayPositivo, arrayNegativo):\n",
    "    array = np.zeros(3)\n",
    "    array[0] = random.random()\n",
    "    for palavra in frase.split(\" \"):\n",
    "        for p in pontuacao:\n",
    "            palavra = palavra.replace(p,'')\n",
    "        if palavra not in palavrasPausa:\n",
    "            array[1] += arrayPositivo[vocabulario[palavra]]\n",
    "            array[2] += arrayNegativo[vocabulario[palavra]]\n",
    "    return array\n",
    "\n",
    "def criarVetores(dados):\n",
    "    for frase in dados.corpo:\n",
    "        p,n = somarFrequencia(dados)\n",
    "        yield criarVetor(frase,p,n)\n",
    "        \n",
    "M = np.array(list(criarVetores(dados)))"
   ]
  },
  {
   "cell_type": "markdown",
   "metadata": {},
   "source": [
    "Ora, o vetor de frequência é dado da seguinte maneira.\n",
    "\n",
    "Célula 1: Bias\n",
    "\n",
    "Célula 2: Somatório das frequencias de palavras do conjunto de positivas que está contida na frase\n",
    "$\\sum_{w}{freqs(w,1)}$\n",
    "\n",
    "Célula 3: Somatório das frequencias de palavras do conjunto de negativas que está contida na frase\n",
    "$\\sum_{w}{freqs(w,0)}$"
   ]
  },
  {
   "cell_type": "code",
   "execution_count": 15,
   "metadata": {},
   "outputs": [
    {
     "name": "stdout",
     "output_type": "stream",
     "text": [
      "Acc: 0.5\n",
      "Acc: 0.625\n",
      "Acc: 0.625\n",
      "Acc: 0.875\n",
      "Acc: 0.875\n",
      "Acc: 1.0\n"
     ]
    }
   ],
   "source": [
    "pesos = np.random.random(3)\n",
    "\n",
    "def predizer(M,pesos):\n",
    "    return 1/(1+np.e**(np.dot(-1*pesos.reshape(3,1).transpose(),M.transpose())))\n",
    "\n",
    "def gradiente(M,pesos):\n",
    "    return (1/M.shape[0])*(np.dot(M.transpose(),(predizer(M,pesos) - np.array(classes)).transpose()))\n",
    "\n",
    "learning_factor = 0.15\n",
    "for i in range(100):\n",
    "    acc = np.sum((predizer(M,pesos) > .5) == np.array(classes))/len(classes)\n",
    "    print(\"Acc:\",acc)\n",
    "    if(acc == 1):\n",
    "        break\n",
    "    delta = gradiente(M,pesos)\n",
    "    pesos = pesos - learning_factor * delta.reshape(3)"
   ]
  },
  {
   "cell_type": "markdown",
   "metadata": {},
   "source": [
    "# Resultados\n",
    "\n",
    "Aí esta o resultado do primeiro laboratório. Análise de sentimento codificada somente com numpy.\n",
    "A continuação do exercício é computar a análise de perca."
   ]
  },
  {
   "cell_type": "code",
   "execution_count": null,
   "metadata": {},
   "outputs": [],
   "source": []
  },
  {
   "cell_type": "code",
   "execution_count": null,
   "metadata": {},
   "outputs": [],
   "source": []
  }
 ],
 "metadata": {
  "kernelspec": {
   "display_name": "Python 3",
   "language": "python",
   "name": "python3"
  },
  "language_info": {
   "codemirror_mode": {
    "name": "ipython",
    "version": 3
   },
   "file_extension": ".py",
   "mimetype": "text/x-python",
   "name": "python",
   "nbconvert_exporter": "python",
   "pygments_lexer": "ipython3",
   "version": "3.8.5"
  }
 },
 "nbformat": 4,
 "nbformat_minor": 4
}
