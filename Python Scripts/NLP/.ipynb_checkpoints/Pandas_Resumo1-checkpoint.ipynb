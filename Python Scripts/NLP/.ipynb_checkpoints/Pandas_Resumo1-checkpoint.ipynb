{
 "cells": [
  {
   "cell_type": "markdown",
   "metadata": {},
   "source": [
    "## Pandas\n",
    "\n",
    "Biblioteca para tratamento de dados. \n",
    "\n",
    "### Series\n",
    "Estrutura base consiste na <code>Series</code>. Essa estrtura funciona como um array.\n",
    "O argumento base para construir uma <code>Series</code> é preciso de uma lista de elementos.\n",
    "\n",
    "A <code>Series</code> tem um nome, que é equivalente ao nome (<code>name</code>) da coluna que ela virá a ser no <code>DataFrame</code>.\n",
    "\n",
    "A <code>Series</code> também tem um <code>dtype</code> que indica o tipo de dados a ser tratado.\n",
    "No caso abaixo temos um dtype: object, isso porque o pandas trata o tipo <code>str</code> do python como object."
   ]
  },
  {
   "cell_type": "code",
   "execution_count": 1,
   "metadata": {},
   "outputs": [
    {
     "data": {
      "text/plain": [
       "0    Clóvis\n",
       "1     Maíra\n",
       "2     Penha\n",
       "3    Simone\n",
       "4       Dió\n",
       "5      Dani\n",
       "Name: Família, dtype: object"
      ]
     },
     "execution_count": 1,
     "metadata": {},
     "output_type": "execute_result"
    }
   ],
   "source": [
    "import pandas as pd\n",
    "\n",
    "series = pd.Series([\"Clóvis\",\"Maíra\",\"Penha\",\"Simone\",\"Dió\",\"Dani\"], name=\"Família\")\n",
    "series"
   ]
  },
  {
   "cell_type": "markdown",
   "metadata": {},
   "source": [
    "### DataFrame\n",
    "\n",
    "O <code>DataFrame</code> é uma composição de <code>Series</code>.\n",
    "Nesse caso, cada série é uma coluna no dataframe.\n",
    "\n",
    "Podemos construir um <code>DataFrame</code> usando um dicionário de listas, onde a chave consiste no nome de cada série.\n",
    "A indexação do dataframe também pode ser modificada no construtor.\n",
    "\n",
    "Cada lista, seja da series ou do index, deve ter o mesmo tamanho. Valores nulos podem ser representados por objetos."
   ]
  },
  {
   "cell_type": "code",
   "execution_count": 2,
   "metadata": {},
   "outputs": [
    {
     "data": {
      "text/html": [
       "<div>\n",
       "<style scoped>\n",
       "    .dataframe tbody tr th:only-of-type {\n",
       "        vertical-align: middle;\n",
       "    }\n",
       "\n",
       "    .dataframe tbody tr th {\n",
       "        vertical-align: top;\n",
       "    }\n",
       "\n",
       "    .dataframe thead th {\n",
       "        text-align: right;\n",
       "    }\n",
       "</style>\n",
       "<table border=\"1\" class=\"dataframe\">\n",
       "  <thead>\n",
       "    <tr style=\"text-align: right;\">\n",
       "      <th></th>\n",
       "      <th>Familia</th>\n",
       "      <th>Idade</th>\n",
       "    </tr>\n",
       "  </thead>\n",
       "  <tbody>\n",
       "    <tr>\n",
       "      <th>a</th>\n",
       "      <td>Clóvis</td>\n",
       "      <td>26</td>\n",
       "    </tr>\n",
       "    <tr>\n",
       "      <th>b</th>\n",
       "      <td>Maíra</td>\n",
       "      <td>27</td>\n",
       "    </tr>\n",
       "    <tr>\n",
       "      <th>c</th>\n",
       "      <td>Penha</td>\n",
       "      <td>62</td>\n",
       "    </tr>\n",
       "    <tr>\n",
       "      <th>d</th>\n",
       "      <td>Simone</td>\n",
       "      <td>46</td>\n",
       "    </tr>\n",
       "    <tr>\n",
       "      <th>e</th>\n",
       "      <td>Dió</td>\n",
       "      <td>52</td>\n",
       "    </tr>\n",
       "  </tbody>\n",
       "</table>\n",
       "</div>"
      ],
      "text/plain": [
       "  Familia  Idade\n",
       "a  Clóvis     26\n",
       "b   Maíra     27\n",
       "c   Penha     62\n",
       "d  Simone     46\n",
       "e     Dió     52"
      ]
     },
     "execution_count": 2,
     "metadata": {},
     "output_type": "execute_result"
    }
   ],
   "source": [
    "data = pd.DataFrame({\"Familia\":[\"Clóvis\",\"Maíra\",\"Penha\",\"Simone\",\"Dió\",\"Dani\"], \"Idade\":[26,27,62,46,52,37]}, index =[\"a\", \"b\", \"c\", \"d\", \"e\", \"f\"])\n",
    "data.head()"
   ]
  },
  {
   "cell_type": "markdown",
   "metadata": {},
   "source": [
    "### Indexação\n",
    "\n",
    "No pandas, a indexação se dar por meio da chave usada no dicionário.\n",
    "Também é possível acessar uma serie pelo atributo case-sensitive referente ao nome da chave.\n",
    "\n",
    "Dois atributos importantes é o <code>data.iloc</code> e <code>data.loc</code>, onde através desses é possível acessar a linha primeiro na indexação. Importante salientar que o iloc e loc tem indexação dupla.\n",
    "\n",
    "Assim, para ter por exemplo a series família, eu deveria ter que usar algo como:\n",
    "<code>data.iloc[:,0]</code>\n",
    "\n",
    "e para pegar a primeira linha dos meus dados bastaria:\n",
    "<code>data.iloc[0]</code>\n",
    "\n",
    "A vantagem do loc sobre o iloc é que o primeiro pode trabalhar com as chaves de dicionário, enquanto o segundo não.\n",
    "<code>data.loc[:,'Familia'] === data.iloc[:,0]</code>\n",
    "\n",
    "Outra diferença importante é que pela implementação ser diferente, o loc retorna uma entrada a mais que o esperado quando trabalhado com intervalos. No caso abaixo, retornamos as 10 primeiras linhas dos dados:\n",
    "<code> data.loc[:9] === data.iloc[:10] </code>\n"
   ]
  },
  {
   "cell_type": "code",
   "execution_count": 3,
   "metadata": {},
   "outputs": [
    {
     "data": {
      "text/plain": [
       "(a    Clóvis\n",
       " b     Maíra\n",
       " c     Penha\n",
       " d    Simone\n",
       " e       Dió\n",
       " f      Dani\n",
       " Name: Familia, dtype: object,\n",
       " a    Clóvis\n",
       " b     Maíra\n",
       " c     Penha\n",
       " d    Simone\n",
       " e       Dió\n",
       " f      Dani\n",
       " Name: Familia, dtype: object)"
      ]
     },
     "execution_count": 3,
     "metadata": {},
     "output_type": "execute_result"
    }
   ],
   "source": [
    "data[\"Familia\"], data.Familia"
   ]
  },
  {
   "cell_type": "code",
   "execution_count": 4,
   "metadata": {},
   "outputs": [
    {
     "data": {
      "text/plain": [
       "a    Clóvis\n",
       "b     Maíra\n",
       "c     Penha\n",
       "d    Simone\n",
       "e       Dió\n",
       "f      Dani\n",
       "Name: Familia, dtype: object"
      ]
     },
     "execution_count": 4,
     "metadata": {},
     "output_type": "execute_result"
    }
   ],
   "source": [
    "data.iloc[:,0]"
   ]
  },
  {
   "cell_type": "markdown",
   "metadata": {},
   "source": [
    "### Seleção condicional\n",
    "\n",
    "Uma das grandes vantagens do pandas são as seleções por condicional.\n",
    "Podemos construír um filtro que o pandas aceita como indexação e converte a saída que obedece aquele filtro."
   ]
  },
  {
   "cell_type": "code",
   "execution_count": 5,
   "metadata": {},
   "outputs": [
    {
     "data": {
      "text/html": [
       "<div>\n",
       "<style scoped>\n",
       "    .dataframe tbody tr th:only-of-type {\n",
       "        vertical-align: middle;\n",
       "    }\n",
       "\n",
       "    .dataframe tbody tr th {\n",
       "        vertical-align: top;\n",
       "    }\n",
       "\n",
       "    .dataframe thead th {\n",
       "        text-align: right;\n",
       "    }\n",
       "</style>\n",
       "<table border=\"1\" class=\"dataframe\">\n",
       "  <thead>\n",
       "    <tr style=\"text-align: right;\">\n",
       "      <th></th>\n",
       "      <th>Familia</th>\n",
       "      <th>Idade</th>\n",
       "    </tr>\n",
       "  </thead>\n",
       "  <tbody>\n",
       "    <tr>\n",
       "      <th>a</th>\n",
       "      <td>Clóvis</td>\n",
       "      <td>26</td>\n",
       "    </tr>\n",
       "  </tbody>\n",
       "</table>\n",
       "</div>"
      ],
      "text/plain": [
       "  Familia  Idade\n",
       "a  Clóvis     26"
      ]
     },
     "execution_count": 5,
     "metadata": {},
     "output_type": "execute_result"
    }
   ],
   "source": [
    "data.loc[data.Familia == 'Clóvis']"
   ]
  },
  {
   "cell_type": "markdown",
   "metadata": {},
   "source": [
    "O pandas possui element wise operation em cima de alguns operadores o que facilita a criação do filtro"
   ]
  },
  {
   "cell_type": "code",
   "execution_count": 6,
   "metadata": {},
   "outputs": [
    {
     "data": {
      "text/plain": [
       "a     True\n",
       "b    False\n",
       "c    False\n",
       "d    False\n",
       "e    False\n",
       "f    False\n",
       "Name: Familia, dtype: bool"
      ]
     },
     "execution_count": 6,
     "metadata": {},
     "output_type": "execute_result"
    }
   ],
   "source": [
    "data.Familia == 'Clóvis'"
   ]
  },
  {
   "cell_type": "markdown",
   "metadata": {},
   "source": [
    "O pandas faz uso dos operadores & e | para criação de filtros mais complexos. Para o uso desses operadores é necessário fazer a construção da prescedência com os parênteses."
   ]
  },
  {
   "cell_type": "code",
   "execution_count": 7,
   "metadata": {},
   "outputs": [
    {
     "data": {
      "text/html": [
       "<div>\n",
       "<style scoped>\n",
       "    .dataframe tbody tr th:only-of-type {\n",
       "        vertical-align: middle;\n",
       "    }\n",
       "\n",
       "    .dataframe tbody tr th {\n",
       "        vertical-align: top;\n",
       "    }\n",
       "\n",
       "    .dataframe thead th {\n",
       "        text-align: right;\n",
       "    }\n",
       "</style>\n",
       "<table border=\"1\" class=\"dataframe\">\n",
       "  <thead>\n",
       "    <tr style=\"text-align: right;\">\n",
       "      <th></th>\n",
       "      <th>Familia</th>\n",
       "      <th>Idade</th>\n",
       "    </tr>\n",
       "  </thead>\n",
       "  <tbody>\n",
       "    <tr>\n",
       "      <th>a</th>\n",
       "      <td>Clóvis</td>\n",
       "      <td>26</td>\n",
       "    </tr>\n",
       "    <tr>\n",
       "      <th>b</th>\n",
       "      <td>Maíra</td>\n",
       "      <td>27</td>\n",
       "    </tr>\n",
       "  </tbody>\n",
       "</table>\n",
       "</div>"
      ],
      "text/plain": [
       "  Familia  Idade\n",
       "a  Clóvis     26\n",
       "b   Maíra     27"
      ]
     },
     "execution_count": 7,
     "metadata": {},
     "output_type": "execute_result"
    }
   ],
   "source": [
    "data.loc[(data.Familia == 'Clóvis') | (data.Familia == 'Maíra')]"
   ]
  },
  {
   "cell_type": "markdown",
   "metadata": {},
   "source": [
    "O método <code>isin</code> pode ser usado para buscar os elementos que possuem aquela entrada.\n",
    "Ele é usado na série de um dataframe ou no próprio dataframe.\n",
    "\n",
    "Vale salientar que não é um método nativo das séries."
   ]
  },
  {
   "cell_type": "code",
   "execution_count": 8,
   "metadata": {},
   "outputs": [
    {
     "data": {
      "text/plain": [
       "a     True\n",
       "b     True\n",
       "c    False\n",
       "d    False\n",
       "e    False\n",
       "f    False\n",
       "Name: Familia, dtype: bool"
      ]
     },
     "execution_count": 8,
     "metadata": {},
     "output_type": "execute_result"
    }
   ],
   "source": [
    "data.Familia.isin(['Clóvis','Maíra'])"
   ]
  },
  {
   "cell_type": "code",
   "execution_count": 9,
   "metadata": {},
   "outputs": [
    {
     "data": {
      "text/html": [
       "<div>\n",
       "<style scoped>\n",
       "    .dataframe tbody tr th:only-of-type {\n",
       "        vertical-align: middle;\n",
       "    }\n",
       "\n",
       "    .dataframe tbody tr th {\n",
       "        vertical-align: top;\n",
       "    }\n",
       "\n",
       "    .dataframe thead th {\n",
       "        text-align: right;\n",
       "    }\n",
       "</style>\n",
       "<table border=\"1\" class=\"dataframe\">\n",
       "  <thead>\n",
       "    <tr style=\"text-align: right;\">\n",
       "      <th></th>\n",
       "      <th>Familia</th>\n",
       "      <th>Idade</th>\n",
       "    </tr>\n",
       "  </thead>\n",
       "  <tbody>\n",
       "    <tr>\n",
       "      <th>a</th>\n",
       "      <td>True</td>\n",
       "      <td>False</td>\n",
       "    </tr>\n",
       "    <tr>\n",
       "      <th>b</th>\n",
       "      <td>False</td>\n",
       "      <td>False</td>\n",
       "    </tr>\n",
       "    <tr>\n",
       "      <th>c</th>\n",
       "      <td>False</td>\n",
       "      <td>False</td>\n",
       "    </tr>\n",
       "    <tr>\n",
       "      <th>d</th>\n",
       "      <td>False</td>\n",
       "      <td>False</td>\n",
       "    </tr>\n",
       "    <tr>\n",
       "      <th>e</th>\n",
       "      <td>False</td>\n",
       "      <td>False</td>\n",
       "    </tr>\n",
       "    <tr>\n",
       "      <th>f</th>\n",
       "      <td>False</td>\n",
       "      <td>False</td>\n",
       "    </tr>\n",
       "  </tbody>\n",
       "</table>\n",
       "</div>"
      ],
      "text/plain": [
       "   Familia  Idade\n",
       "a     True  False\n",
       "b    False  False\n",
       "c    False  False\n",
       "d    False  False\n",
       "e    False  False\n",
       "f    False  False"
      ]
     },
     "execution_count": 9,
     "metadata": {},
     "output_type": "execute_result"
    }
   ],
   "source": [
    "data.isin(['Clóvis'])"
   ]
  },
  {
   "cell_type": "markdown",
   "metadata": {},
   "source": [
    "Por último, como o pandas trata sua estrutura principal como um dicionário, para adicionar uma nova coluna, basta criar uma da mesma forma como em um dicionário. Isso, desde que tenha o mesmo tamanho que as demais colunas."
   ]
  },
  {
   "cell_type": "code",
   "execution_count": 10,
   "metadata": {},
   "outputs": [
    {
     "data": {
      "text/html": [
       "<div>\n",
       "<style scoped>\n",
       "    .dataframe tbody tr th:only-of-type {\n",
       "        vertical-align: middle;\n",
       "    }\n",
       "\n",
       "    .dataframe tbody tr th {\n",
       "        vertical-align: top;\n",
       "    }\n",
       "\n",
       "    .dataframe thead th {\n",
       "        text-align: right;\n",
       "    }\n",
       "</style>\n",
       "<table border=\"1\" class=\"dataframe\">\n",
       "  <thead>\n",
       "    <tr style=\"text-align: right;\">\n",
       "      <th></th>\n",
       "      <th>Familia</th>\n",
       "      <th>Idade</th>\n",
       "      <th>Exemplo</th>\n",
       "    </tr>\n",
       "  </thead>\n",
       "  <tbody>\n",
       "    <tr>\n",
       "      <th>a</th>\n",
       "      <td>Clóvis</td>\n",
       "      <td>26</td>\n",
       "      <td>a</td>\n",
       "    </tr>\n",
       "    <tr>\n",
       "      <th>b</th>\n",
       "      <td>Maíra</td>\n",
       "      <td>27</td>\n",
       "      <td>None</td>\n",
       "    </tr>\n",
       "    <tr>\n",
       "      <th>c</th>\n",
       "      <td>Penha</td>\n",
       "      <td>62</td>\n",
       "      <td>c</td>\n",
       "    </tr>\n",
       "    <tr>\n",
       "      <th>d</th>\n",
       "      <td>Simone</td>\n",
       "      <td>46</td>\n",
       "      <td>d</td>\n",
       "    </tr>\n",
       "    <tr>\n",
       "      <th>e</th>\n",
       "      <td>Dió</td>\n",
       "      <td>52</td>\n",
       "      <td>None</td>\n",
       "    </tr>\n",
       "  </tbody>\n",
       "</table>\n",
       "</div>"
      ],
      "text/plain": [
       "  Familia  Idade Exemplo\n",
       "a  Clóvis     26       a\n",
       "b   Maíra     27    None\n",
       "c   Penha     62       c\n",
       "d  Simone     46       d\n",
       "e     Dió     52    None"
      ]
     },
     "execution_count": 10,
     "metadata": {},
     "output_type": "execute_result"
    }
   ],
   "source": [
    "data['Exemplo'] = ['a', None, 'c', 'd', None, 'e']\n",
    "data.head()"
   ]
  },
  {
   "cell_type": "markdown",
   "metadata": {},
   "source": [
    "### Métodos not null e is null\n",
    "<code>notnull</code> e <code>isnull</code> são métodos úteis para construção de filtros que querem excluir ou separar os elementos que são nulos naqueles dados. Eles podem ser usado a partir de séries do dataframe."
   ]
  },
  {
   "cell_type": "code",
   "execution_count": 11,
   "metadata": {},
   "outputs": [
    {
     "data": {
      "text/html": [
       "<div>\n",
       "<style scoped>\n",
       "    .dataframe tbody tr th:only-of-type {\n",
       "        vertical-align: middle;\n",
       "    }\n",
       "\n",
       "    .dataframe tbody tr th {\n",
       "        vertical-align: top;\n",
       "    }\n",
       "\n",
       "    .dataframe thead th {\n",
       "        text-align: right;\n",
       "    }\n",
       "</style>\n",
       "<table border=\"1\" class=\"dataframe\">\n",
       "  <thead>\n",
       "    <tr style=\"text-align: right;\">\n",
       "      <th></th>\n",
       "      <th>Familia</th>\n",
       "      <th>Idade</th>\n",
       "      <th>Exemplo</th>\n",
       "    </tr>\n",
       "  </thead>\n",
       "  <tbody>\n",
       "    <tr>\n",
       "      <th>a</th>\n",
       "      <td>True</td>\n",
       "      <td>True</td>\n",
       "      <td>True</td>\n",
       "    </tr>\n",
       "    <tr>\n",
       "      <th>b</th>\n",
       "      <td>True</td>\n",
       "      <td>True</td>\n",
       "      <td>False</td>\n",
       "    </tr>\n",
       "    <tr>\n",
       "      <th>c</th>\n",
       "      <td>True</td>\n",
       "      <td>True</td>\n",
       "      <td>True</td>\n",
       "    </tr>\n",
       "    <tr>\n",
       "      <th>d</th>\n",
       "      <td>True</td>\n",
       "      <td>True</td>\n",
       "      <td>True</td>\n",
       "    </tr>\n",
       "    <tr>\n",
       "      <th>e</th>\n",
       "      <td>True</td>\n",
       "      <td>True</td>\n",
       "      <td>False</td>\n",
       "    </tr>\n",
       "    <tr>\n",
       "      <th>f</th>\n",
       "      <td>True</td>\n",
       "      <td>True</td>\n",
       "      <td>True</td>\n",
       "    </tr>\n",
       "  </tbody>\n",
       "</table>\n",
       "</div>"
      ],
      "text/plain": [
       "   Familia  Idade  Exemplo\n",
       "a     True   True     True\n",
       "b     True   True    False\n",
       "c     True   True     True\n",
       "d     True   True     True\n",
       "e     True   True    False\n",
       "f     True   True     True"
      ]
     },
     "execution_count": 11,
     "metadata": {},
     "output_type": "execute_result"
    }
   ],
   "source": [
    "data.notnull()"
   ]
  },
  {
   "cell_type": "markdown",
   "metadata": {},
   "source": [
    "### Funções de resumo, e mapas\n",
    "\n",
    "O pandas possuem algumasa funções que são úteis para análise dos dados. \n",
    "\n",
    "<code>data.serie.describe()</code> da um resumo indicando algumas estatísticas da série em questão. Os tipos de estatísticas retornadas variam com o tipo de dado da serie.\n",
    "\n",
    "```python\n",
    "data.serie.mean() # Retorna a média\n",
    "data.serie.median() # Retorna a mediana\n",
    "data.serie.unique() # Retorna elementos únicos\n",
    "data.serie.value_counts() # Retorna a contagem de elementos da série.\n",
    "```\n",
    "\n",
    "Os mapas por sua vez permitem o tratamento de dados de forma prática. Devemos entender que ao usar um mapa em uma série, o valor retornado no callback será o valor final de uma das céluas da série retornada."
   ]
  },
  {
   "cell_type": "code",
   "execution_count": 18,
   "metadata": {},
   "outputs": [],
   "source": [
    "data.Exemplo = data.Exemplo.map(lambda d: 'Vazio' if d is None else d)"
   ]
  },
  {
   "cell_type": "markdown",
   "metadata": {},
   "source": [
    "### GroupBy\n",
    "\n",
    "O método groupby permite o agrupamento de elementos por uma ou mais séries. Com isso é permitido fazer diversas análises a partir dos agrupamentos dos dados."
   ]
  },
  {
   "cell_type": "code",
   "execution_count": 19,
   "metadata": {},
   "outputs": [
    {
     "data": {
      "text/plain": [
       "Exemplo\n",
       "Vazio    2\n",
       "a        1\n",
       "c        1\n",
       "d        1\n",
       "e        1\n",
       "Name: Familia, dtype: int64"
      ]
     },
     "execution_count": 19,
     "metadata": {},
     "output_type": "execute_result"
    }
   ],
   "source": [
    "data.groupby('Exemplo').Familia.count()"
   ]
  },
  {
   "cell_type": "code",
   "execution_count": null,
   "metadata": {},
   "outputs": [],
   "source": []
  }
 ],
 "metadata": {
  "kernelspec": {
   "display_name": "Python 3",
   "language": "python",
   "name": "python3"
  },
  "language_info": {
   "codemirror_mode": {
    "name": "ipython",
    "version": 3
   },
   "file_extension": ".py",
   "mimetype": "text/x-python",
   "name": "python",
   "nbconvert_exporter": "python",
   "pygments_lexer": "ipython3",
   "version": "3.8.5"
  }
 },
 "nbformat": 4,
 "nbformat_minor": 4
}
